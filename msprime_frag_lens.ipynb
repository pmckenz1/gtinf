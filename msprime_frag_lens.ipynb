{
 "cells": [
  {
   "cell_type": "markdown",
   "metadata": {},
   "source": [
    "## Get an idea of our expected tree fragment length distribution given a particular scenario"
   ]
  },
  {
   "cell_type": "markdown",
   "metadata": {},
   "source": [
    "### imports"
   ]
  },
  {
   "cell_type": "code",
   "execution_count": 56,
   "metadata": {},
   "outputs": [],
   "source": [
    "import os\n",
    "import sys\n",
    "import h5py\n",
    "import toyplot\n",
    "import toytree\n",
    "import numpy as np\n",
    "import msprime as ms\n",
    "import subprocess\n",
    "from __future__ import print_function\n",
    "from numba import jit\n",
    "import seaborn as sns\n",
    "from matplotlib import pyplot as plt\n",
    "from scipy import stats"
   ]
  },
  {
   "cell_type": "markdown",
   "metadata": {},
   "source": [
    "### here's our class object from before, which takes a toytree object and runs msprime."
   ]
  },
  {
   "cell_type": "code",
   "execution_count": 40,
   "metadata": {},
   "outputs": [],
   "source": [
    "class Coalseq:\n",
    "    def __init__(\n",
    "        self, \n",
    "        tree,\n",
    "        dirname,\n",
    "        theta=0.01,\n",
    "        nreps=1,\n",
    "        seed=None,\n",
    "        debug=False,\n",
    "        mut=1e-8,\n",
    "        length=10000,\n",
    "        recombination_rate=1e-8,\n",
    "        ):\n",
    "        # init random seed\n",
    "        if seed:\n",
    "            np.random.seed(seed)\n",
    "\n",
    "        # hidden argument to turn on debugging\n",
    "        self._debug = debug\n",
    "        \n",
    "        self.dirname = dirname\n",
    "        if not os.path.exists(self.dirname):\n",
    "            os.mkdir(self.dirname)\n",
    "            print(\"Directory '\" + self.dirname +  \"' created.\")\n",
    "        # store sim params as attrs\n",
    "        if isinstance(theta, (float, int)):\n",
    "            self._rtheta = (theta, theta)\n",
    "        else:\n",
    "            self._rtheta = (min(theta), max(theta))\n",
    "\n",
    "        # fixed _mut; _theta sampled from theta; and _Ne computed for diploid\n",
    "        self._mut = mut\n",
    "        self._theta = np.random.uniform(self._rtheta[0], self._rtheta[1])\n",
    "        self._recombination_rate = recombination_rate\n",
    "        \n",
    "        # length of chromosome\n",
    "        self._length = length\n",
    "        \n",
    "        # dimension of simulations\n",
    "        self.nreps = nreps\n",
    "\n",
    "\n",
    "        # parse the input tree\n",
    "        if isinstance(tree, toytree.tree):\n",
    "            self.tree = tree\n",
    "        elif isinstance(tree, str):\n",
    "            self.tree = toytree.tree(tree)\n",
    "        else:\n",
    "            raise TypeError(\"input tree must be newick str or Toytree object\")\n",
    "        self.ntips = len(self.tree)\n",
    "\n",
    "        # store node.name as node.idx, save old names in a dict.\n",
    "        self.namedict = {}\n",
    "        for node in self.tree.treenode.traverse():\n",
    "            if node.is_leaf():\n",
    "                # store old name\n",
    "                self.namedict[str(node.idx)] = node.name\n",
    "                # set new name\n",
    "                node.name = str(node.idx)\n",
    "\n",
    "        # parse the input admixture edges. It should a list of tuples, or list\n",
    "        # of lists where each element has five values.\n",
    "\n",
    "        ## generate migration parameters from the tree and admixture_edges\n",
    "        ## stores data in memory as self.test_values as 'mrates' and 'mtimes'\n",
    "        self._get_test_values()\n",
    "\n",
    "\n",
    "    @property\n",
    "    def _Ne(self):\n",
    "        \"Ne is automatically calculated from theta and fixed mut\"\n",
    "        return (self._theta / self._mut) / 4.\n",
    "\n",
    "\n",
    "    def _get_test_values(self): \n",
    "\n",
    "        ## store sampled theta values across ntests\n",
    "        self._theta = np.random.uniform(\n",
    "            self._rtheta[0], self._rtheta[1])\n",
    "\n",
    "\n",
    "\n",
    "    ## functions to build simulation options \n",
    "    def _get_demography(self):\n",
    "\n",
    "        ## Define demographic events for msprime\n",
    "        demog = set()\n",
    "\n",
    "        ## tag min index child for each node, since at the time the node is \n",
    "        ## called it may already be renamed by its child index b/c of \n",
    "        ## divergence events.\n",
    "        for node in self.tree.treenode.traverse():\n",
    "            if node.children:\n",
    "                node._schild = min([i.idx for i in node.get_descendants()])\n",
    "            else:\n",
    "                node._schild = node.idx\n",
    "\n",
    "        ## Add divergence events\n",
    "        for node in self.tree.treenode.traverse():\n",
    "            if node.children:\n",
    "                dest = min([i._schild for i in node.children])\n",
    "                source = max([i._schild for i in node.children])\n",
    "                time = node.height * 2. * self._Ne  \n",
    "                demog.add(ms.MassMigration(time, source, dest))\n",
    "                if self._debug:\n",
    "                    print('demog div:', (int(time), source, dest), \n",
    "                        file=sys.stderr)\n",
    "\n",
    "\n",
    "        ## sort events by time\n",
    "        demog = sorted(list(demog), key=lambda x: x.time)\n",
    "        return demog\n",
    "\n",
    "\n",
    "    def _get_popconfig(self):\n",
    "        \"\"\"\n",
    "        returns population_configurations for N tips of a tree\n",
    "        \"\"\"\n",
    "        population_configurations = [\n",
    "            ms.PopulationConfiguration(sample_size=1, initial_size=self._Ne)\n",
    "            for ntip in range(self.ntips)]\n",
    "        return population_configurations\n",
    "\n",
    "\n",
    "    def _simulate(self):\n",
    "    \n",
    "        # store _temp values for this idx simulation, \n",
    "        # Ne will be calculated from theta.\n",
    "        migmat = np.zeros((self.ntips, self.ntips), dtype=int).tolist()\n",
    "     \n",
    "\n",
    "        ## build msprime simulation\n",
    "        #sim = ms.simulate(\n",
    "        #    length=self._length,\n",
    "        #    num_replicates=self.nsnps*100,  # 100X since some sims are empty\n",
    "        #    mutation_rate=self._mut,\n",
    "        #    migration_matrix=migmat,\n",
    "        #    population_configurations=self._get_popconfig(),\n",
    "        #    demographic_events=self._get_demography()\n",
    "        #)\n",
    "        ## build msprime simulation\n",
    "        sim = ms.simulate(\n",
    "            length=self._length,\n",
    "            num_replicates=1,  # 100X since some sims are empty\n",
    "            mutation_rate=self._mut,\n",
    "            recombination_rate=self._recombination_rate,\n",
    "            migration_matrix=migmat,\n",
    "            population_configurations=self._get_popconfig(),\n",
    "            demographic_events=self._get_demography()\n",
    "        )\n",
    "        return sim\n",
    "\n",
    "\n",
    "    def make_treeseq(self):\n",
    "\n",
    "        sims = self._simulate()\n",
    "        self.treeseq = sims.next()\n",
    "    \n",
    "    def write_trees(self):\n",
    "        # make a folder for the msprime genetree files\n",
    "        dirname_genetrees = self.dirname+'/ms_genetrees'\n",
    "        if not os.path.exists(dirname_genetrees):\n",
    "            os.mkdir(dirname_genetrees)\n",
    "            print(\"Directory '\" + dirname_genetrees +  \"' created.\")\n",
    "        \n",
    "        # make a list to hold onto the sequence lengths associated with each genetree\n",
    "        lengths = []\n",
    "        # start a counter for fun (I could enumerate instead...)\n",
    "        counter = 0\n",
    "        # for each genetree...\n",
    "        for tree in self.treeseq.trees():\n",
    "            # make a new numbered (these are ordered) file containing the newick tree\n",
    "            with open(dirname_genetrees+'/'+str(counter)+'.phy','w') as f:\n",
    "                f.write(tree.newick())\n",
    "            # hold onto the length for this tree\n",
    "            lengths.append(np.int64(tree.get_length()))\n",
    "            counter += 1\n",
    "        \n",
    "        # save our lengths list as an array to an hdf5 file... I should maybe do this inside the \n",
    "        # loop rather than building up a list. \n",
    "        lengthsfile = h5py.File(self.dirname+'/ms_genetree_lengths.hdf5','w')\n",
    "        lengthsfile['lengths'] = np.array(lengths)\n",
    "        lengthsfile.close()\n",
    "\n",
    "    def write_seqs(self):\n",
    "        # make a folder for the sequence files\n",
    "        dirname_seqs = self.dirname+'/seqs'\n",
    "        if not os.path.exists(dirname_seqs):\n",
    "            os.mkdir(dirname_seqs)\n",
    "            print(\"Directory '\" + dirname_seqs + \"' created.\")\n",
    "        # open the file containing the sequence length for each msprime gene tree\n",
    "        lengthsfile = h5py.File(self.dirname+'/ms_genetree_lengths.hdf5','r')\n",
    "        \n",
    "        # for each msprime genetree file...\n",
    "        for i in os.listdir(self.dirname+'/ms_genetrees'):\n",
    "            # get the number associated with the genetree file (strip off the '.phy')\n",
    "            num = i[:-4]\n",
    "            # get the length of sequence associated with the genetree\n",
    "            length = str(lengthsfile['lengths'][np.int(num)])\n",
    "            # run seqgen on the genetree file, using the associated sequence length\n",
    "            seqgen = subprocess.Popen(['seq-gen', self.dirname +'/ms_genetrees/'+i,'-m','GTR','-l',length, '-s', str(self._mut)], stdout=subprocess.PIPE, stderr=subprocess.PIPE)\n",
    "            # write out a .fa file with number matching the genetree file\n",
    "            tee = subprocess.Popen(['tee', dirname_seqs+'/'+ num + '.fa'], stdin=seqgen.stdout)\n",
    "            seqgen.stdout.close()\n",
    "            # run the command\n",
    "            tee.communicate()\n",
    "\n",
    "    def build_seqs(self,\n",
    "                   filename = 'final_seqs',\n",
    "                   hdf5=False):\n",
    "        seq_len = 0\n",
    "        for i in range(self.treeseq.num_trees):\n",
    "            with open(self.dirname+'/seqs/' + str(i) + '.fa','r') as f:\n",
    "                # count up what the total sequence length will be -- just add across all files\n",
    "                tst = f.read().split('\\n')[0]\n",
    "                try:\n",
    "                    seq_len += int(tst.split(' ')[2])\n",
    "                except:\n",
    "                    print('there was an error: '+tst.split(' '))\n",
    "        # make a zeros array of the shape of our final alignment\n",
    "        seq_arr=np.zeros((self.ntips,seq_len),dtype=np.str)\n",
    "        counter = 0\n",
    "        # for each simulated sequence fragment...\n",
    "        for i in range(self.treeseq.num_trees):\n",
    "            # open the sequence file\n",
    "            with open(self.dirname+ '/seqs/' + str(i) + '.fa','r') as f:\n",
    "                # open, split, and exclude the last element (which is extraneous)\n",
    "                # then sort so that the species are ordered\n",
    "                myseq = np.sort(f.read().split('\\n')[:-1])\n",
    "                # save the integer length of the sequence fragment from the top line\n",
    "                lenseq = int(myseq[0].split(' ')[2])\n",
    "                # now ditch the top line\n",
    "                myseq = myseq[1:]\n",
    "                # now add the fragment for each species to the proper place in the array\n",
    "                for idx, indiv_seq in enumerate(myseq):\n",
    "                    seq_arr[idx][counter:(counter+lenseq)] = list(indiv_seq[10:])\n",
    "                counter += lenseq\n",
    "        # now that we've filled our whole array, we can save it to a full fasta file:\n",
    "        if not hdf5:\n",
    "            with open(self.dirname+'/'+filename+'.fa','w') as f:\n",
    "                # make the header line telling how many taxa and how long the alignment is\n",
    "                f.write(\" \"+str(self.ntips)+\" \"+str(seq_len))\n",
    "                f.write(\"\\n\")\n",
    "                # for each row of the array, save a taxa ID and then the full sequence.\n",
    "                for idx, seq in enumerate(seq_arr):\n",
    "                    # make a line to ID the taxon:\n",
    "                    f.write(str(idx+1) + ' '*(10-len(str(idx+1))))\n",
    "                    f.write(\"\\n\")\n",
    "                    #make a line for the sequence\n",
    "                    f.write(seq)\n",
    "                    f.write(\"\\n\")\n",
    "        else:\n",
    "            db=h5py.File(self.dirname+'/'+filename+'.hdf5')\n",
    "            db['alignment'] = seq_arr\n",
    "        print(\"Written full alignment.\")"
   ]
  },
  {
   "cell_type": "markdown",
   "metadata": {},
   "source": [
    "### also go ahead and write a function to get the fragment lengths from the msprime sim..."
   ]
  },
  {
   "cell_type": "markdown",
   "metadata": {},
   "source": [
    "(These fragment lengths aren't necessarily different topologies, they might be same topology with different branch lengths. But different genealogies)"
   ]
  },
  {
   "cell_type": "code",
   "execution_count": 41,
   "metadata": {},
   "outputs": [],
   "source": [
    "@jit\n",
    "def get_dists(breaks):\n",
    "    num = len(breaks)\n",
    "    distarr = np.zeros((num-1))\n",
    "    for i in range(num-1):\n",
    "        distarr[i]=breaks[i+1]-breaks[i]\n",
    "    return(distarr)"
   ]
  },
  {
   "cell_type": "markdown",
   "metadata": {},
   "source": [
    "### make a tree"
   ]
  },
  {
   "cell_type": "code",
   "execution_count": 42,
   "metadata": {},
   "outputs": [],
   "source": [
    "tree = toytree.rtree.unittree(ntips=9, treeheight=3, seed=42)"
   ]
  },
  {
   "cell_type": "markdown",
   "metadata": {},
   "source": [
    "### make a class object and run msprime"
   ]
  },
  {
   "cell_type": "code",
   "execution_count": 54,
   "metadata": {},
   "outputs": [],
   "source": [
    "sim = Coalseq(tree,\n",
    "            'tester',\n",
    "           recombination_rate = 1e-10,\n",
    "           length = 10000000)\n",
    "sim.make_treeseq()"
   ]
  },
  {
   "cell_type": "markdown",
   "metadata": {},
   "source": [
    "### plot the distribution of fragment lengths"
   ]
  },
  {
   "cell_type": "code",
   "execution_count": 98,
   "metadata": {},
   "outputs": [
    {
     "data": {
      "text/plain": [
       "array([0.00000000e+00, 3.05573456e+03, 3.31245596e+03, ...,\n",
       "       9.99984126e+06, 9.99995738e+06, 1.00000000e+07])"
      ]
     },
     "execution_count": 98,
     "metadata": {},
     "output_type": "execute_result"
    }
   ],
   "source": [
    "breaks = np.array(list(sim.treeseq.breakpoints()))\n",
    "breaks"
   ]
  },
  {
   "cell_type": "code",
   "execution_count": 99,
   "metadata": {},
   "outputs": [
    {
     "data": {
      "image/png": "[encoded data removed]",
      "text/plain": [
       "<Figure size 432x288 with 1 Axes>"
      ]
     },
     "metadata": {},
     "output_type": "display_data"
    }
   ],
   "source": [
    "sns.distplot(get_dists(breaks))\n",
    "plt.show()"
   ]
  },
  {
   "cell_type": "markdown",
   "metadata": {},
   "source": [
    "### approximate the distribution of fragment lengths using a gaussian kernel density estimator"
   ]
  },
  {
   "cell_type": "code",
   "execution_count": 100,
   "metadata": {},
   "outputs": [],
   "source": [
    "fragment_lengths = get_dists(np.array(list(sim.treeseq.breakpoints())))"
   ]
  },
  {
   "cell_type": "code",
   "execution_count": 101,
   "metadata": {},
   "outputs": [],
   "source": [
    "kernel_est = stats.gaussian_kde(fragment_lengths,bw_method=1e-3)"
   ]
  },
  {
   "cell_type": "markdown",
   "metadata": {},
   "source": [
    "### resample from our estimator to show that the distribution looks similar"
   ]
  },
  {
   "cell_type": "code",
   "execution_count": 102,
   "metadata": {},
   "outputs": [
    {
     "data": {
      "image/png": "[encoded data removed]",
      "text/plain": [
       "<Figure size 432x288 with 1 Axes>"
      ]
     },
     "metadata": {},
     "output_type": "display_data"
    }
   ],
   "source": [
    "sns.distplot(kernel_est.resample(5000))\n",
    "plt.show()"
   ]
  },
  {
   "cell_type": "markdown",
   "metadata": {},
   "source": [
    "### Now compare it to our data:"
   ]
  },
  {
   "cell_type": "code",
   "execution_count": 103,
   "metadata": {},
   "outputs": [
    {
     "data": {
      "image/png": "[encoded data removed]",
      "text/plain": [
       "<Figure size 432x288 with 1 Axes>"
      ]
     },
     "metadata": {},
     "output_type": "display_data"
    }
   ],
   "source": [
    "sns.distplot(get_dists(np.array(list(sim.treeseq.breakpoints()))))\n",
    "sns.distplot(kernel_est.resample(5000))\n",
    "plt.show()"
   ]
  },
  {
   "cell_type": "markdown",
   "metadata": {},
   "source": [
    "### What happens when we use trees of different tip numbers?"
   ]
  },
  {
   "cell_type": "code",
   "execution_count": 114,
   "metadata": {},
   "outputs": [],
   "source": [
    "for i in [4,51]:\n",
    "    tree = toytree.rtree.unittree(ntips=i, treeheight=3, seed=42)\n",
    "    sim = Coalseq(tree,\n",
    "                'tester',\n",
    "               recombination_rate = 1e-10,\n",
    "               length = 10000000)\n",
    "    sim.make_treeseq()\n",
    "    fivetipkde = stats.gaussian_kde(get_dists(np.array(list(sim.treeseq.breakpoints()))),bw_method=1e-3)\n",
    "    sns.distplot(fivetipkde.resample(5000))"
   ]
  },
  {
   "cell_type": "code",
   "execution_count": 115,
   "metadata": {},
   "outputs": [
    {
     "data": {
      "image/png": "[encoded data removed]",
      "text/plain": [
       "<Figure size 432x288 with 1 Axes>"
      ]
     },
     "metadata": {},
     "output_type": "display_data"
    }
   ],
   "source": [
    "plt.show()"
   ]
  },
  {
   "cell_type": "code",
   "execution_count": 116,
   "metadata": {},
   "outputs": [],
   "source": [
    "for i in [4,11]:\n",
    "    tree = toytree.rtree.unittree(ntips=i, treeheight=3, seed=42)\n",
    "    sim = Coalseq(tree,\n",
    "                'tester',\n",
    "               recombination_rate = 1e-10,\n",
    "               length = 10000000)\n",
    "    sim.make_treeseq()\n",
    "    fivetipkde = stats.gaussian_kde(get_dists(np.array(list(sim.treeseq.breakpoints()))),bw_method=1e-3)\n",
    "    sns.distplot(fivetipkde.resample(5000))"
   ]
  },
  {
   "cell_type": "code",
   "execution_count": 117,
   "metadata": {},
   "outputs": [
    {
     "data": {
      "image/png": "[encoded data removed]",
      "text/plain": [
       "<Figure size 432x288 with 1 Axes>"
      ]
     },
     "metadata": {},
     "output_type": "display_data"
    }
   ],
   "source": [
    "plt.show()"
   ]
  },
  {
   "cell_type": "markdown",
   "metadata": {},
   "source": [
    "### it's simple to query the gaussian kde..."
   ]
  },
  {
   "cell_type": "markdown",
   "metadata": {},
   "source": [
    "find the probability that a randomly selected fragment is between two arbitrary values:"
   ]
  },
  {
   "cell_type": "code",
   "execution_count": 122,
   "metadata": {},
   "outputs": [
    {
     "data": {
      "text/plain": [
       "0.07267668706275619"
      ]
     },
     "execution_count": 122,
     "metadata": {},
     "output_type": "execute_result"
    }
   ],
   "source": [
    "fivetipkde.integrate_box(10,100)"
   ]
  },
  {
   "cell_type": "markdown",
   "metadata": {},
   "source": [
    "evalue the density function at particular values:"
   ]
  },
  {
   "cell_type": "code",
   "execution_count": 124,
   "metadata": {},
   "outputs": [
    {
     "data": {
      "text/plain": [
       "array([0.00080963])"
      ]
     },
     "execution_count": 124,
     "metadata": {},
     "output_type": "execute_result"
    }
   ],
   "source": [
    "fivetipkde.evaluate(100)"
   ]
  },
  {
   "cell_type": "code",
   "execution_count": null,
   "metadata": {},
   "outputs": [],
   "source": []
  }
 ],
 "metadata": {
  "kernelspec": {
   "display_name": "Python 2",
   "language": "python",
   "name": "python2"
  },
  "language_info": {
   "codemirror_mode": {
    "name": "ipython",
    "version": 2
   },
   "file_extension": ".py",
   "mimetype": "text/x-python",
   "name": "python",
   "nbconvert_exporter": "python",
   "pygments_lexer": "ipython2",
   "version": "2.7.11"
  }
 },
 "nbformat": 4,
 "nbformat_minor": 2
}
