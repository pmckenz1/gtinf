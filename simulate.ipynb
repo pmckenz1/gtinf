{
 "cells": [
  {
   "cell_type": "markdown",
   "metadata": {},
   "source": [
    "# simulate gene trees along chromosome"
   ]
  },
  {
   "cell_type": "markdown",
   "metadata": {},
   "source": [
    "### imports:"
   ]
  },
  {
   "cell_type": "code",
   "execution_count": 1,
   "metadata": {},
   "outputs": [],
   "source": [
    "import os\n",
    "import sys\n",
    "import h5py\n",
    "import toyplot\n",
    "import toytree\n",
    "import numpy as np\n",
    "import msprime as ms\n",
    "import subprocess\n",
    "from __future__ import print_function"
   ]
  },
  {
   "cell_type": "markdown",
   "metadata": {},
   "source": [
    "### Here's our shiny new class object:"
   ]
  },
  {
   "cell_type": "markdown",
   "metadata": {},
   "source": [
    "Some of these functions could be combined, but keeping them separate seems fine for now."
   ]
  },
  {
   "cell_type": "code",
   "execution_count": 11,
   "metadata": {},
   "outputs": [],
   "source": [
    "class Coalseq:\n",
    "    def __init__(\n",
    "        self, \n",
    "        tree,\n",
    "        dirname,\n",
    "        theta=0.01,\n",
    "        nreps=1,\n",
    "        seed=None,\n",
    "        debug=False,\n",
    "        mut=1e-8,\n",
    "        length=10000,\n",
    "        recombination_rate=1e-8,\n",
    "        ):\n",
    "        # init random seed\n",
    "        if seed:\n",
    "            np.random.seed(seed)\n",
    "\n",
    "        # hidden argument to turn on debugging\n",
    "        self._debug = debug\n",
    "        \n",
    "        self.dirname = dirname\n",
    "        if not os.path.exists(self.dirname):\n",
    "            os.mkdir(self.dirname)\n",
    "            print(\"Directory '\" + self.dirname +  \"' created.\")\n",
    "        # store sim params as attrs\n",
    "        if isinstance(theta, (float, int)):\n",
    "            self._rtheta = (theta, theta)\n",
    "        else:\n",
    "            self._rtheta = (min(theta), max(theta))\n",
    "\n",
    "        # fixed _mut; _theta sampled from theta; and _Ne computed for diploid\n",
    "        self._mut = mut\n",
    "        self._theta = np.random.uniform(self._rtheta[0], self._rtheta[1])\n",
    "        self._recombination_rate = recombination_rate\n",
    "        \n",
    "        # length of chromosome\n",
    "        self._length = length\n",
    "        \n",
    "        # dimension of simulations\n",
    "        self.nreps = nreps\n",
    "\n",
    "\n",
    "        # parse the input tree\n",
    "        if isinstance(tree, toytree.tree):\n",
    "            self.tree = tree\n",
    "        elif isinstance(tree, str):\n",
    "            self.tree = toytree.tree(tree)\n",
    "        else:\n",
    "            raise TypeError(\"input tree must be newick str or Toytree object\")\n",
    "        self.ntips = len(self.tree)\n",
    "\n",
    "        # store node.name as node.idx, save old names in a dict.\n",
    "        self.namedict = {}\n",
    "        for node in self.tree.treenode.traverse():\n",
    "            if node.is_leaf():\n",
    "                # store old name\n",
    "                self.namedict[str(node.idx)] = node.name\n",
    "                # set new name\n",
    "                node.name = str(node.idx)\n",
    "\n",
    "        # parse the input admixture edges. It should a list of tuples, or list\n",
    "        # of lists where each element has five values.\n",
    "\n",
    "        ## generate migration parameters from the tree and admixture_edges\n",
    "        ## stores data in memory as self.test_values as 'mrates' and 'mtimes'\n",
    "        self._get_test_values()\n",
    "\n",
    "\n",
    "    @property\n",
    "    def _Ne(self):\n",
    "        \"Ne is automatically calculated from theta and fixed mut\"\n",
    "        return (self._theta / self._mut) / 4.\n",
    "\n",
    "\n",
    "    def _get_test_values(self): \n",
    "\n",
    "        ## store sampled theta values across ntests\n",
    "        self._theta = np.random.uniform(\n",
    "            self._rtheta[0], self._rtheta[1])\n",
    "\n",
    "\n",
    "\n",
    "    ## functions to build simulation options \n",
    "    def _get_demography(self):\n",
    "\n",
    "        ## Define demographic events for msprime\n",
    "        demog = set()\n",
    "\n",
    "        ## tag min index child for each node, since at the time the node is \n",
    "        ## called it may already be renamed by its child index b/c of \n",
    "        ## divergence events.\n",
    "        for node in self.tree.treenode.traverse():\n",
    "            if node.children:\n",
    "                node._schild = min([i.idx for i in node.get_descendants()])\n",
    "            else:\n",
    "                node._schild = node.idx\n",
    "\n",
    "        ## Add divergence events\n",
    "        for node in self.tree.treenode.traverse():\n",
    "            if node.children:\n",
    "                dest = min([i._schild for i in node.children])\n",
    "                source = max([i._schild for i in node.children])\n",
    "                time = node.height * 2. * self._Ne  \n",
    "                demog.add(ms.MassMigration(time, source, dest))\n",
    "                if self._debug:\n",
    "                    print('demog div:', (int(time), source, dest), \n",
    "                        file=sys.stderr)\n",
    "\n",
    "\n",
    "        ## sort events by time\n",
    "        demog = sorted(list(demog), key=lambda x: x.time)\n",
    "        return demog\n",
    "\n",
    "\n",
    "    def _get_popconfig(self):\n",
    "        \"\"\"\n",
    "        returns population_configurations for N tips of a tree\n",
    "        \"\"\"\n",
    "        population_configurations = [\n",
    "            ms.PopulationConfiguration(sample_size=1, initial_size=self._Ne)\n",
    "            for ntip in range(self.ntips)]\n",
    "        return population_configurations\n",
    "\n",
    "\n",
    "    def _simulate(self):\n",
    "    \n",
    "        # store _temp values for this idx simulation, \n",
    "        # Ne will be calculated from theta.\n",
    "        migmat = np.zeros((self.ntips, self.ntips), dtype=int).tolist()\n",
    "     \n",
    "\n",
    "        ## build msprime simulation\n",
    "        #sim = ms.simulate(\n",
    "        #    length=self._length,\n",
    "        #    num_replicates=self.nsnps*100,  # 100X since some sims are empty\n",
    "        #    mutation_rate=self._mut,\n",
    "        #    migration_matrix=migmat,\n",
    "        #    population_configurations=self._get_popconfig(),\n",
    "        #    demographic_events=self._get_demography()\n",
    "        #)\n",
    "        ## build msprime simulation\n",
    "        sim = ms.simulate(\n",
    "            length=self._length,\n",
    "            num_replicates=1,  # 100X since some sims are empty\n",
    "            mutation_rate=self._mut,\n",
    "            recombination_rate=self._recombination_rate,\n",
    "            migration_matrix=migmat,\n",
    "            population_configurations=self._get_popconfig(),\n",
    "            demographic_events=self._get_demography()\n",
    "        )\n",
    "        return sim\n",
    "\n",
    "\n",
    "    def make_treeseq(self):\n",
    "\n",
    "        sims = self._simulate()\n",
    "        self.treeseq = sims.next()\n",
    "    \n",
    "    def write_trees(self):\n",
    "        # make a folder for the msprime genetree files\n",
    "        dirname_genetrees = self.dirname+'/ms_genetrees'\n",
    "        if not os.path.exists(dirname_genetrees):\n",
    "            os.mkdir(dirname_genetrees)\n",
    "            print(\"Directory '\" + dirname_genetrees +  \"' created.\")\n",
    "        \n",
    "        # make a list to hold onto the sequence lengths associated with each genetree\n",
    "        lengths = []\n",
    "        # start a counter for fun (I could enumerate instead...)\n",
    "        counter = 0\n",
    "        # for each genetree...\n",
    "        for tree in self.treeseq.trees():\n",
    "            # make a new numbered (these are ordered) file containing the newick tree\n",
    "            with open(dirname_genetrees+'/'+str(counter)+'.phy','w') as f:\n",
    "                f.write(tree.newick())\n",
    "            # hold onto the length for this tree\n",
    "            lengths.append(np.int64(tree.get_length()))\n",
    "            counter += 1\n",
    "        \n",
    "        # save our lengths list as an array to an hdf5 file... I should maybe do this inside the \n",
    "        # loop rather than building up a list. \n",
    "        lengthsfile = h5py.File(self.dirname+'/ms_genetree_lengths.hdf5','w')\n",
    "        lengthsfile['lengths'] = np.array(lengths)\n",
    "        lengthsfile.close()\n",
    "\n",
    "    def write_seqs(self):\n",
    "        # make a folder for the sequence files\n",
    "        dirname_seqs = self.dirname+'/seqs'\n",
    "        if not os.path.exists(dirname_seqs):\n",
    "            os.mkdir(dirname_seqs)\n",
    "            print(\"Directory '\" + dirname_seqs + \"' created.\")\n",
    "        # open the file containing the sequence length for each msprime gene tree\n",
    "        lengthsfile = h5py.File(self.dirname+'/ms_genetree_lengths.hdf5','r')\n",
    "        \n",
    "        # for each msprime genetree file...\n",
    "        for i in os.listdir(self.dirname+'/ms_genetrees'):\n",
    "            # get the number associated with the genetree file (strip off the '.phy')\n",
    "            num = i[:-4]\n",
    "            # get the length of sequence associated with the genetree\n",
    "            length = str(lengthsfile['lengths'][np.int(num)])\n",
    "            # run seqgen on the genetree file, using the associated sequence length\n",
    "            seqgen = subprocess.Popen(['seq-gen', self.dirname +'/ms_genetrees/'+i,'-m','GTR','-l',length], stdout=subprocess.PIPE, stderr=subprocess.PIPE)\n",
    "            # write out a .fa file with number matching the genetree file\n",
    "            tee = subprocess.Popen(['tee', dirname_seqs+'/'+ num + '.fa'], stdin=seqgen.stdout)\n",
    "            seqgen.stdout.close()\n",
    "            # run the command\n",
    "            tee.communicate()\n",
    "\n",
    "    def build_seqs(self,\n",
    "                   filename = 'final_seqs',\n",
    "                   hdf5=False):\n",
    "        seq_len = 0\n",
    "        for i in range(self.treeseq.num_trees):\n",
    "            with open(self.dirname+'/seqs/' + str(i) + '.fa','r') as f:\n",
    "                # count up what the total sequence length will be -- just add across all files\n",
    "                tst = f.read().split('\\n')[0]\n",
    "                try:\n",
    "                    seq_len += int(tst.split(' ')[2])\n",
    "                except:\n",
    "                    print('there was an error: '+tst.split(' '))\n",
    "        # make a zeros array of the shape of our final alignment\n",
    "        seq_arr=np.zeros((self.ntips,seq_len),dtype=np.str)\n",
    "        counter = 0\n",
    "        # for each simulated sequence fragment...\n",
    "        for i in range(self.treeseq.num_trees):\n",
    "            # open the sequence file\n",
    "            with open(self.dirname+ '/seqs/' + str(i) + '.fa','r') as f:\n",
    "                # open, split, and exclude the last element (which is extraneous)\n",
    "                # then sort so that the species are ordered\n",
    "                myseq = np.sort(f.read().split('\\n')[:-1])\n",
    "                # save the integer length of the sequence fragment from the top line\n",
    "                lenseq = int(myseq[0].split(' ')[2])\n",
    "                # now ditch the top line\n",
    "                myseq = myseq[1:]\n",
    "                # now add the fragment for each species to the proper place in the array\n",
    "                for idx, indiv_seq in enumerate(myseq):\n",
    "                    seq_arr[idx][counter:(counter+lenseq)] = list(indiv_seq[10:])\n",
    "                counter += lenseq\n",
    "        # now that we've filled our whole array, we can save it to a full fasta file:\n",
    "        if not hdf5:\n",
    "            with open(self.dirname+'/'+filename+'.fa','w') as f:\n",
    "                # make the header line telling how many taxa and how long the alignment is\n",
    "                f.write(\" \"+str(self.ntips)+\" \"+str(seq_len))\n",
    "                f.write(\"\\n\")\n",
    "                # for each row of the array, save a taxa ID and then the full sequence.\n",
    "                for idx, seq in enumerate(seq_arr):\n",
    "                    # make a line to ID the taxon:\n",
    "                    f.write(str(idx+1) + ' '*(10-len(str(idx+1))))\n",
    "                    f.write(\"\\n\")\n",
    "                    #make a line for the sequence\n",
    "                    f.write(seq)\n",
    "                    f.write(\"\\n\")\n",
    "        else:\n",
    "            db=h5py.File(self.dirname+'/'+filename+'.hdf5')\n",
    "            db['alignment'] = seq_arr\n",
    "        print(\"Written full alignment.\")"
   ]
  },
  {
   "cell_type": "markdown",
   "metadata": {},
   "source": [
    "# Start"
   ]
  },
  {
   "cell_type": "markdown",
   "metadata": {},
   "source": [
    "### define a species tree"
   ]
  },
  {
   "cell_type": "code",
   "execution_count": 12,
   "metadata": {},
   "outputs": [],
   "source": [
    "tree = toytree.rtree.unittree(ntips=9, treeheight=3, seed=42)\n",
    "#c, a = tree.draw(tree_style='c',node_labels=tree.get_node_values('name',show_root=True,show_tips=True))"
   ]
  },
  {
   "cell_type": "markdown",
   "metadata": {},
   "source": [
    "### initiate object"
   ]
  },
  {
   "cell_type": "markdown",
   "metadata": {},
   "source": [
    "A `Coalseq` class object requires a toytree object and a directory name as arguments.  \n",
    "When you define a `Coalseq` object, a directory will automatically be created."
   ]
  },
  {
   "cell_type": "code",
   "execution_count": 13,
   "metadata": {},
   "outputs": [],
   "source": [
    "sim = Coalseq(tree,\n",
    "            'my_dir',\n",
    "           recombination_rate = 1e-10,\n",
    "           length = 100000)"
   ]
  },
  {
   "cell_type": "markdown",
   "metadata": {},
   "source": [
    "I've kept the length short here for simplicity, but seems to work fine for relatively long sequences."
   ]
  },
  {
   "cell_type": "markdown",
   "metadata": {},
   "source": [
    "### simulate under msprime"
   ]
  },
  {
   "cell_type": "markdown",
   "metadata": {},
   "source": [
    "The `make_treeseq()` function will run a single msprime simulation."
   ]
  },
  {
   "cell_type": "code",
   "execution_count": 14,
   "metadata": {},
   "outputs": [],
   "source": [
    "sim.make_treeseq()"
   ]
  },
  {
   "cell_type": "markdown",
   "metadata": {},
   "source": [
    "We can then access the msprime treesequence:"
   ]
  },
  {
   "cell_type": "code",
   "execution_count": 15,
   "metadata": {},
   "outputs": [
    {
     "data": {
      "text/plain": [
       "<msprime.trees.TreeSequence at 0x1164980d0>"
      ]
     },
     "execution_count": 15,
     "metadata": {},
     "output_type": "execute_result"
    }
   ],
   "source": [
    "sim.treeseq"
   ]
  },
  {
   "cell_type": "markdown",
   "metadata": {},
   "source": [
    "And we can access the attributes of this tree sequence:"
   ]
  },
  {
   "cell_type": "code",
   "execution_count": 16,
   "metadata": {},
   "outputs": [
    {
     "data": {
      "text/plain": [
       "67"
      ]
     },
     "execution_count": 16,
     "metadata": {},
     "output_type": "execute_result"
    }
   ],
   "source": [
    "sim.treeseq.num_trees"
   ]
  },
  {
   "cell_type": "markdown",
   "metadata": {},
   "source": [
    "### write out msprime genetrees:"
   ]
  },
  {
   "cell_type": "markdown",
   "metadata": {},
   "source": [
    "This will write out Newick versions of all genetrees in the TreeSequence to a directory called 'ms_genetrees' inside our project directory."
   ]
  },
  {
   "cell_type": "code",
   "execution_count": 17,
   "metadata": {},
   "outputs": [
    {
     "name": "stdout",
     "output_type": "stream",
     "text": [
      "Directory 'my_dir/ms_genetrees' created.\n"
     ]
    }
   ],
   "source": [
    "sim.write_trees()"
   ]
  },
  {
   "cell_type": "markdown",
   "metadata": {},
   "source": [
    "We can see that these are there:"
   ]
  },
  {
   "cell_type": "code",
   "execution_count": 18,
   "metadata": {},
   "outputs": [
    {
     "name": "stdout",
     "output_type": "stream",
     "text": [
      "0.phy  15.phy 21.phy 28.phy 34.phy 40.phy 47.phy 53.phy 6.phy  66.phy\n",
      "1.phy  16.phy 22.phy 29.phy 35.phy 41.phy 48.phy 54.phy 60.phy 7.phy\n",
      "10.phy 17.phy 23.phy 3.phy  36.phy 42.phy 49.phy 55.phy 61.phy 8.phy\n",
      "11.phy 18.phy 24.phy 30.phy 37.phy 43.phy 5.phy  56.phy 62.phy 9.phy\n",
      "12.phy 19.phy 25.phy 31.phy 38.phy 44.phy 50.phy 57.phy 63.phy\n",
      "13.phy 2.phy  26.phy 32.phy 39.phy 45.phy 51.phy 58.phy 64.phy\n",
      "14.phy 20.phy 27.phy 33.phy 4.phy  46.phy 52.phy 59.phy 65.phy\n"
     ]
    }
   ],
   "source": [
    "! ls my_dir/ms_genetrees/"
   ]
  },
  {
   "cell_type": "markdown",
   "metadata": {},
   "source": [
    "These are ordered -- \"0.phy\" is next to \"1.phy\" on the chromosome."
   ]
  },
  {
   "cell_type": "markdown",
   "metadata": {},
   "source": [
    "We have also written out an hdf5 file to the main project directory that contains the sequence length associated with each genetree."
   ]
  },
  {
   "cell_type": "code",
   "execution_count": 19,
   "metadata": {},
   "outputs": [
    {
     "name": "stdout",
     "output_type": "stream",
     "text": [
      "ms_genetree_lengths.hdf5 \u001b[34mms_genetrees\u001b[m\u001b[m\n"
     ]
    }
   ],
   "source": [
    "! ls my_dir"
   ]
  },
  {
   "cell_type": "markdown",
   "metadata": {},
   "source": [
    "### Now we can use the `write_seqs()` function to run seq-gen on each genetree individually, saving each sequence as an individual file"
   ]
  },
  {
   "cell_type": "code",
   "execution_count": 20,
   "metadata": {},
   "outputs": [
    {
     "name": "stdout",
     "output_type": "stream",
     "text": [
      "Directory 'my_dir/seqs' created.\n"
     ]
    }
   ],
   "source": [
    "sim.write_seqs()"
   ]
  },
  {
   "cell_type": "markdown",
   "metadata": {},
   "source": [
    "We can see that this has worked:"
   ]
  },
  {
   "cell_type": "code",
   "execution_count": 21,
   "metadata": {},
   "outputs": [
    {
     "name": "stdout",
     "output_type": "stream",
     "text": [
      "0.fa  14.fa 2.fa  25.fa 30.fa 36.fa 41.fa 47.fa 52.fa 58.fa 63.fa 9.fa\n",
      "1.fa  15.fa 20.fa 26.fa 31.fa 37.fa 42.fa 48.fa 53.fa 59.fa 64.fa\n",
      "10.fa 16.fa 21.fa 27.fa 32.fa 38.fa 43.fa 49.fa 54.fa 6.fa  65.fa\n",
      "11.fa 17.fa 22.fa 28.fa 33.fa 39.fa 44.fa 5.fa  55.fa 60.fa 66.fa\n",
      "12.fa 18.fa 23.fa 29.fa 34.fa 4.fa  45.fa 50.fa 56.fa 61.fa 7.fa\n",
      "13.fa 19.fa 24.fa 3.fa  35.fa 40.fa 46.fa 51.fa 57.fa 62.fa 8.fa\n"
     ]
    }
   ],
   "source": [
    "! ls my_dir/seqs/"
   ]
  },
  {
   "cell_type": "markdown",
   "metadata": {},
   "source": [
    "### now, we can concatenate these into a full alignment:"
   ]
  },
  {
   "cell_type": "markdown",
   "metadata": {},
   "source": [
    "The default saves as .fa file:"
   ]
  },
  {
   "cell_type": "code",
   "execution_count": 22,
   "metadata": {},
   "outputs": [
    {
     "name": "stdout",
     "output_type": "stream",
     "text": [
      "Written full alignment.\n"
     ]
    }
   ],
   "source": [
    "sim.build_seqs()"
   ]
  },
  {
   "cell_type": "code",
   "execution_count": 23,
   "metadata": {},
   "outputs": [
    {
     "name": "stdout",
     "output_type": "stream",
     "text": [
      "final_seqs.fa            \u001b[34mms_genetrees\u001b[m\u001b[m\n",
      "ms_genetree_lengths.hdf5 \u001b[34mseqs\u001b[m\u001b[m\n"
     ]
    }
   ],
   "source": [
    "! ls my_dir/"
   ]
  },
  {
   "cell_type": "markdown",
   "metadata": {},
   "source": [
    "But we can also save this as an hdf5 file:"
   ]
  },
  {
   "cell_type": "code",
   "execution_count": 24,
   "metadata": {},
   "outputs": [
    {
     "name": "stdout",
     "output_type": "stream",
     "text": [
      "Written full alignment.\n"
     ]
    }
   ],
   "source": [
    "sim.build_seqs(hdf5=True)"
   ]
  },
  {
   "cell_type": "markdown",
   "metadata": {},
   "source": [
    "### admire the results:"
   ]
  },
  {
   "cell_type": "code",
   "execution_count": 25,
   "metadata": {},
   "outputs": [],
   "source": [
    "alignment=h5py.File('my_dir/final_seqs.hdf5')"
   ]
  },
  {
   "cell_type": "code",
   "execution_count": 26,
   "metadata": {},
   "outputs": [
    {
     "data": {
      "text/plain": [
       "<HDF5 dataset \"alignment\": shape (9, 99970), type \"|S1\">"
      ]
     },
     "execution_count": 26,
     "metadata": {},
     "output_type": "execute_result"
    }
   ],
   "source": [
    "alignment['alignment']"
   ]
  },
  {
   "cell_type": "code",
   "execution_count": 27,
   "metadata": {},
   "outputs": [
    {
     "data": {
      "text/plain": [
       "array([['T', 'T', 'G', ..., 'T', 'T', 'C'],\n",
       "       ['G', 'T', 'A', ..., 'T', 'T', 'T'],\n",
       "       ['A', 'G', 'G', ..., 'G', 'G', 'A'],\n",
       "       ...,\n",
       "       ['T', 'C', 'A', ..., 'G', 'T', 'C'],\n",
       "       ['A', 'T', 'A', ..., 'G', 'G', 'A'],\n",
       "       ['C', 'T', 'T', ..., 'T', 'A', 'A']], dtype='|S1')"
      ]
     },
     "execution_count": 27,
     "metadata": {},
     "output_type": "execute_result"
    }
   ],
   "source": [
    "np.array(alignment['alignment'])"
   ]
  },
  {
   "cell_type": "markdown",
   "metadata": {},
   "source": [
    "### remaining question:"
   ]
  },
  {
   "cell_type": "markdown",
   "metadata": {},
   "source": [
    "Can I input genetrees directly to seq-gen from msprime? Do I need to scale the branch lengths?"
   ]
  }
 ],
 "metadata": {
  "kernelspec": {
   "display_name": "Python 2",
   "language": "python",
   "name": "python2"
  },
  "language_info": {
   "codemirror_mode": {
    "name": "ipython",
    "version": 2
   },
   "file_extension": ".py",
   "mimetype": "text/x-python",
   "name": "python",
   "nbconvert_exporter": "python",
   "pygments_lexer": "ipython2",
   "version": "2.7.11"
  }
 },
 "nbformat": 4,
 "nbformat_minor": 2
}
