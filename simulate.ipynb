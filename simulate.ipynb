{
 "cells": [
  {
   "cell_type": "markdown",
   "metadata": {},
   "source": [
    "# simulate gene trees along chromosome"
   ]
  },
  {
   "cell_type": "markdown",
   "metadata": {},
   "source": [
    "### imports:"
   ]
  },
  {
   "cell_type": "code",
   "execution_count": 14,
   "metadata": {},
   "outputs": [],
   "source": [
    "import os\n",
    "import sys\n",
    "import h5py\n",
    "import toyplot\n",
    "import toytree\n",
    "import numpy as np\n",
    "import msprime as ms\n",
    "import subprocess\n",
    "from __future__ import print_function"
   ]
  },
  {
   "cell_type": "markdown",
   "metadata": {},
   "source": [
    "### Here's our shiny new class object:"
   ]
  },
  {
   "cell_type": "markdown",
   "metadata": {},
   "source": [
    "Some of these functions could be combined, but keeping them separate seems fine for now."
   ]
  },
  {
   "cell_type": "code",
   "execution_count": 15,
   "metadata": {},
   "outputs": [],
   "source": [
    "class Coalseq:\n",
    "    def __init__(\n",
    "        self, \n",
    "        tree,\n",
    "        dirname,\n",
    "        theta=0.01,\n",
    "        nreps=1,\n",
    "        seed=None,\n",
    "        debug=False,\n",
    "        mut=1e-8,\n",
    "        length=10000,\n",
    "        recombination_rate=1e-8,\n",
    "        ):\n",
    "        # init random seed\n",
    "        if seed:\n",
    "            np.random.seed(seed)\n",
    "\n",
    "        # hidden argument to turn on debugging\n",
    "        self._debug = debug\n",
    "        \n",
    "        self.dirname = dirname\n",
    "        if not os.path.exists(self.dirname):\n",
    "            os.mkdir(self.dirname)\n",
    "            print(\"Directory '\" + self.dirname +  \"' created.\")\n",
    "        # store sim params as attrs\n",
    "        if isinstance(theta, (float, int)):\n",
    "            self._rtheta = (theta, theta)\n",
    "        else:\n",
    "            self._rtheta = (min(theta), max(theta))\n",
    "\n",
    "        # fixed _mut; _theta sampled from theta; and _Ne computed for diploid\n",
    "        self._mut = mut\n",
    "        self._theta = np.random.uniform(self._rtheta[0], self._rtheta[1])\n",
    "        self._recombination_rate = recombination_rate\n",
    "        \n",
    "        # length of chromosome\n",
    "        self._length = length\n",
    "        \n",
    "        # dimension of simulations\n",
    "        self.nreps = nreps\n",
    "\n",
    "\n",
    "        # parse the input tree\n",
    "        if isinstance(tree, toytree.tree):\n",
    "            self.tree = tree\n",
    "        elif isinstance(tree, str):\n",
    "            self.tree = toytree.tree(tree)\n",
    "        else:\n",
    "            raise TypeError(\"input tree must be newick str or Toytree object\")\n",
    "        self.ntips = len(self.tree)\n",
    "\n",
    "        # store node.name as node.idx, save old names in a dict.\n",
    "        self.namedict = {}\n",
    "        for node in self.tree.tree.traverse():\n",
    "            if node.is_leaf():\n",
    "                # store old name\n",
    "                self.namedict[str(node.idx)] = node.name\n",
    "                # set new name\n",
    "                node.name = str(node.idx)\n",
    "\n",
    "        # parse the input admixture edges. It should a list of tuples, or list\n",
    "        # of lists where each element has five values.\n",
    "\n",
    "        ## generate migration parameters from the tree and admixture_edges\n",
    "        ## stores data in memory as self.test_values as 'mrates' and 'mtimes'\n",
    "        self._get_test_values()\n",
    "\n",
    "\n",
    "    @property\n",
    "    def _Ne(self):\n",
    "        \"Ne is automatically calculated from theta and fixed mut\"\n",
    "        return (self._theta / self._mut) / 4.\n",
    "\n",
    "\n",
    "    def _get_test_values(self): \n",
    "\n",
    "        ## store sampled theta values across ntests\n",
    "        self._theta = np.random.uniform(\n",
    "            self._rtheta[0], self._rtheta[1])\n",
    "\n",
    "\n",
    "\n",
    "    ## functions to build simulation options \n",
    "    def _get_demography(self):\n",
    "\n",
    "        ## Define demographic events for msprime\n",
    "        demog = set()\n",
    "\n",
    "        ## tag min index child for each node, since at the time the node is \n",
    "        ## called it may already be renamed by its child index b/c of \n",
    "        ## divergence events.\n",
    "        for node in self.tree.tree.traverse():\n",
    "            if node.children:\n",
    "                node._schild = min([i.idx for i in node.get_descendants()])\n",
    "            else:\n",
    "                node._schild = node.idx\n",
    "\n",
    "        ## Add divergence events\n",
    "        for node in self.tree.tree.traverse():\n",
    "            if node.children:\n",
    "                dest = min([i._schild for i in node.children])\n",
    "                source = max([i._schild for i in node.children])\n",
    "                time = node.height * 2. * self._Ne  \n",
    "                demog.add(ms.MassMigration(time, source, dest))\n",
    "                if self._debug:\n",
    "                    print('demog div:', (int(time), source, dest), \n",
    "                        file=sys.stderr)\n",
    "\n",
    "\n",
    "        ## sort events by time\n",
    "        demog = sorted(list(demog), key=lambda x: x.time)\n",
    "        return demog\n",
    "\n",
    "\n",
    "    def _get_popconfig(self):\n",
    "        \"\"\"\n",
    "        returns population_configurations for N tips of a tree\n",
    "        \"\"\"\n",
    "        population_configurations = [\n",
    "            ms.PopulationConfiguration(sample_size=1, initial_size=self._Ne)\n",
    "            for ntip in range(self.ntips)]\n",
    "        return population_configurations\n",
    "\n",
    "\n",
    "    def _simulate(self):\n",
    "    \n",
    "        # store _temp values for this idx simulation, \n",
    "        # Ne will be calculated from theta.\n",
    "        migmat = np.zeros((self.ntips, self.ntips), dtype=int).tolist()\n",
    "     \n",
    "\n",
    "        ## build msprime simulation\n",
    "        #sim = ms.simulate(\n",
    "        #    length=self._length,\n",
    "        #    num_replicates=self.nsnps*100,  # 100X since some sims are empty\n",
    "        #    mutation_rate=self._mut,\n",
    "        #    migration_matrix=migmat,\n",
    "        #    population_configurations=self._get_popconfig(),\n",
    "        #    demographic_events=self._get_demography()\n",
    "        #)\n",
    "        ## build msprime simulation\n",
    "        sim = ms.simulate(\n",
    "            length=self._length,\n",
    "            num_replicates=1,  # 100X since some sims are empty\n",
    "            mutation_rate=self._mut,\n",
    "            recombination_rate=self._recombination_rate,\n",
    "            migration_matrix=migmat,\n",
    "            population_configurations=self._get_popconfig(),\n",
    "            demographic_events=self._get_demography()\n",
    "        )\n",
    "        return sim\n",
    "\n",
    "\n",
    "    def make_treeseq(self):\n",
    "\n",
    "        sims = self._simulate()\n",
    "        self.treeseq = sims.next()\n",
    "    \n",
    "    def write_trees(self):\n",
    "        # make a folder for the msprime genetree files\n",
    "        dirname_genetrees = self.dirname+'/ms_genetrees'\n",
    "        if not os.path.exists(dirname_genetrees):\n",
    "            os.mkdir(dirname_genetrees)\n",
    "            print(\"Directory '\" + dirname_genetrees +  \"' created.\")\n",
    "        \n",
    "        # make a list to hold onto the sequence lengths associated with each genetree\n",
    "        lengths = []\n",
    "        # start a counter for fun (I could enumerate instead...)\n",
    "        counter = 0\n",
    "        # for each genetree...\n",
    "        for tree in self.treeseq.trees():\n",
    "            # make a new numbered (these are ordered) file containing the newick tree\n",
    "            with open(dirname_genetrees+'/'+str(counter)+'.phy','w') as f:\n",
    "                f.write(tree.newick())\n",
    "            # hold onto the length for this tree\n",
    "            lengths.append(np.int64(tree.get_length()))\n",
    "            counter += 1\n",
    "        \n",
    "        # save our lengths list as an array to an hdf5 file... I should maybe do this inside the \n",
    "        # loop rather than building up a list. \n",
    "        lengthsfile = h5py.File(self.dirname+'/ms_genetree_lengths.hdf5','w')\n",
    "        lengthsfile['lengths'] = np.array(lengths)\n",
    "        lengthsfile.close()\n",
    "\n",
    "    def write_seqs(self):\n",
    "        # make a folder for the sequence files\n",
    "        dirname_seqs = self.dirname+'/seqs'\n",
    "        if not os.path.exists(dirname_seqs):\n",
    "            os.mkdir(dirname_seqs)\n",
    "            print(\"Directory '\" + dirname_seqs + \"' created.\")\n",
    "        # open the file containing the sequence length for each msprime gene tree\n",
    "        lengthsfile = h5py.File(self.dirname+'/ms_genetree_lengths.hdf5','r')\n",
    "        \n",
    "        # for each msprime genetree file...\n",
    "        for i in os.listdir(self.dirname+'/ms_genetrees'):\n",
    "            # get the number associated with the genetree file (strip off the '.phy')\n",
    "            num = i[:-4]\n",
    "            # get the length of sequence associated with the genetree\n",
    "            length = str(lengthsfile['lengths'][np.int(num)])\n",
    "            # run seqgen on the genetree file, using the associated sequence length\n",
    "            seqgen = subprocess.Popen(['seq-gen', self.dirname +'/ms_genetrees/'+i,'-m','GTR','-l',length], stdout=subprocess.PIPE, stderr=subprocess.PIPE)\n",
    "            # write out a .fa file with number matching the genetree file\n",
    "            tee = subprocess.Popen(['tee', dirname_seqs+'/'+ num + '.fa'], stdin=seqgen.stdout)\n",
    "            seqgen.stdout.close()\n",
    "            # run the command\n",
    "            tee.communicate()\n",
    "\n",
    "    def build_seqs(self,\n",
    "                   filename = 'final_seqs',\n",
    "                   hdf5=False):\n",
    "        seq_len = 0\n",
    "        for i in range(self.treeseq.num_trees):\n",
    "            with open(self.dirname+'/seqs/' + str(i) + '.fa','r') as f:\n",
    "                # count up what the total sequence length will be -- just add across all files\n",
    "                tst = f.read().split('\\n')[0]\n",
    "                try:\n",
    "                    seq_len += int(tst.split(' ')[2])\n",
    "                except:\n",
    "                    print('there was an error: '+tst.split(' '))\n",
    "        # make a zeros array of the shape of our final alignment\n",
    "        seq_arr=np.zeros((self.ntips,seq_len),dtype=np.str)\n",
    "        counter = 0\n",
    "        # for each simulated sequence fragment...\n",
    "        for i in range(self.treeseq.num_trees):\n",
    "            # open the sequence file\n",
    "            with open(self.dirname+ '/seqs/' + str(i) + '.fa','r') as f:\n",
    "                # open, split, and exclude the last element (which is extraneous)\n",
    "                # then sort so that the species are ordered\n",
    "                myseq = np.sort(f.read().split('\\n')[:-1])\n",
    "                # save the integer length of the sequence fragment from the top line\n",
    "                lenseq = int(myseq[0].split(' ')[2])\n",
    "                # now ditch the top line\n",
    "                myseq = myseq[1:]\n",
    "                # now add the fragment for each species to the proper place in the array\n",
    "                for idx, indiv_seq in enumerate(myseq):\n",
    "                    seq_arr[idx][counter:(counter+lenseq)] = list(indiv_seq[10:])\n",
    "                counter += lenseq\n",
    "        # now that we've filled our whole array, we can save it to a full fasta file:\n",
    "        if not hdf5:\n",
    "            with open(self.dirname+'/'+filename+'.fa','w') as f:\n",
    "                # make the header line telling how many taxa and how long the alignment is\n",
    "                f.write(\" \"+str(self.ntips)+\" \"+str(seq_len))\n",
    "                f.write(\"\\n\")\n",
    "                # for each row of the array, save a taxa ID and then the full sequence.\n",
    "                for idx, seq in enumerate(seq_arr):\n",
    "                    # make a line to ID the taxon:\n",
    "                    f.write(str(idx+1) + ' '*(10-len(str(idx+1))))\n",
    "                    f.write(\"\\n\")\n",
    "                    #make a line for the sequence\n",
    "                    f.write(seq)\n",
    "                    f.write(\"\\n\")\n",
    "        else:\n",
    "            db=h5py.File(self.dirname+'/'+filename+'.hdf5')\n",
    "            db['alignment'] = seq_arr\n",
    "        print(\"Written full alignment.\")"
   ]
  },
  {
   "cell_type": "markdown",
   "metadata": {},
   "source": [
    "# Start"
   ]
  },
  {
   "cell_type": "markdown",
   "metadata": {},
   "source": [
    "### define a species tree"
   ]
  },
  {
   "cell_type": "code",
   "execution_count": 16,
   "metadata": {},
   "outputs": [
    {
     "data": {
      "text/html": [
       "<div class=\"toyplot\" id=\"tdd128878a2b14f89acd44ed3260b9eec\" style=\"text-align:center\"><svg class=\"toyplot-canvas-Canvas\" height=\"225.0px\" id=\"t18fdd0ab9e6347cdbb0fffed7fdb74f8\" preserveAspectRatio=\"xMidYMid meet\" style=\"background-color:transparent;fill:rgb(16.1%,15.3%,14.1%);fill-opacity:1.0;font-family:Helvetica;font-size:12px;opacity:1.0;stroke:rgb(16.1%,15.3%,14.1%);stroke-opacity:1.0;stroke-width:1.0\" viewBox=\"0 0 275.0 225.0\" width=\"275.0px\" xmlns=\"http://www.w3.org/2000/svg\" xmlns:toyplot=\"http://www.sandia.gov/toyplot\" xmlns:xlink=\"http://www.w3.org/1999/xlink\"><g class=\"toyplot-coordinates-Cartesian\" id=\"t03e07990d0c64476ad18703e8ab13ba7\"><clipPath id=\"t98c7921c8df24bf998604e2e495f92c1\"><rect height=\"165.0\" width=\"215.0\" x=\"30.0\" y=\"30.0\"></rect></clipPath><g clip-path=\"url(#t98c7921c8df24bf998604e2e495f92c1)\"><g class=\"toyplot-mark-Graph\" id=\"t20f1b1b0c1ee45b3b35a023bcbc497e4\"><g class=\"toyplot-Edges\"><path d=\"M 214.0625 112.5 L 225.0 175.0\" style=\"fill:none;stroke:rgb(16.1%,15.3%,14.1%);stroke-linecap:round;stroke-opacity:1.0;stroke-width:2\"></path><path d=\"M 214.0625 112.5 L 203.125 175.0\" style=\"fill:none;stroke:rgb(16.1%,15.3%,14.1%);stroke-linecap:round;stroke-opacity:1.0;stroke-width:2\"></path><path d=\"M 178.857421875 50.0 L 214.0625 112.5\" style=\"fill:none;stroke:rgb(16.1%,15.3%,14.1%);stroke-linecap:round;stroke-opacity:1.0;stroke-width:2\"></path><path d=\"M 170.3125 122.91666666666666 L 181.25 175.0\" style=\"fill:none;stroke:rgb(16.1%,15.3%,14.1%);stroke-linecap:round;stroke-opacity:1.0;stroke-width:2\"></path><path d=\"M 170.3125 122.91666666666666 L 159.375 175.0\" style=\"fill:none;stroke:rgb(16.1%,15.3%,14.1%);stroke-linecap:round;stroke-opacity:1.0;stroke-width:2\"></path><path d=\"M 143.65234375 70.83333333333333 L 170.3125 122.91666666666666\" style=\"fill:none;stroke:rgb(16.1%,15.3%,14.1%);stroke-linecap:round;stroke-opacity:1.0;stroke-width:2\"></path><path d=\"M 116.9921875 91.66666666666667 L 137.5 175.0\" style=\"fill:none;stroke:rgb(16.1%,15.3%,14.1%);stroke-linecap:round;stroke-opacity:1.0;stroke-width:2\"></path><path d=\"M 96.484375 112.5 L 115.625 175.0\" style=\"fill:none;stroke:rgb(16.1%,15.3%,14.1%);stroke-linecap:round;stroke-opacity:1.0;stroke-width:2\"></path><path d=\"M 77.34375 133.33333333333334 L 93.75 175.0\" style=\"fill:none;stroke:rgb(16.1%,15.3%,14.1%);stroke-linecap:round;stroke-opacity:1.0;stroke-width:2\"></path><path d=\"M 60.9375 154.16666666666669 L 71.875 175.0\" style=\"fill:none;stroke:rgb(16.1%,15.3%,14.1%);stroke-linecap:round;stroke-opacity:1.0;stroke-width:2\"></path><path d=\"M 60.9375 154.16666666666669 L 50.0 175.0\" style=\"fill:none;stroke:rgb(16.1%,15.3%,14.1%);stroke-linecap:round;stroke-opacity:1.0;stroke-width:2\"></path><path d=\"M 77.34375 133.33333333333334 L 60.9375 154.16666666666669\" style=\"fill:none;stroke:rgb(16.1%,15.3%,14.1%);stroke-linecap:round;stroke-opacity:1.0;stroke-width:2\"></path><path d=\"M 96.484375 112.5 L 77.34375 133.33333333333334\" style=\"fill:none;stroke:rgb(16.1%,15.3%,14.1%);stroke-linecap:round;stroke-opacity:1.0;stroke-width:2\"></path><path d=\"M 116.9921875 91.66666666666667 L 96.484375 112.5\" style=\"fill:none;stroke:rgb(16.1%,15.3%,14.1%);stroke-linecap:round;stroke-opacity:1.0;stroke-width:2\"></path><path d=\"M 143.65234375 70.83333333333333 L 116.9921875 91.66666666666667\" style=\"fill:none;stroke:rgb(16.1%,15.3%,14.1%);stroke-linecap:round;stroke-opacity:1.0;stroke-width:2\"></path><path d=\"M 178.857421875 50.0 L 143.65234375 70.83333333333333\" style=\"fill:none;stroke:rgb(16.1%,15.3%,14.1%);stroke-linecap:round;stroke-opacity:1.0;stroke-width:2\"></path><g class=\"toyplot-HeadMarkers\"></g><g class=\"toyplot-MiddleMarkers\"></g><g class=\"toyplot-TailMarkers\"></g></g><g class=\"toyplot-Vertices\"><g class=\"toyplot-Datum\" style=\"fill:rgb(40%,76.1%,64.7%);fill-opacity:1.0;opacity:1.0;stroke:rgb(40%,76.1%,64.7%);stroke-opacity:1.0\" transform=\"translate(50.0, 175.0)\"><circle r=\"0.0\"></circle></g><g class=\"toyplot-Datum\" style=\"fill:rgb(40%,76.1%,64.7%);fill-opacity:1.0;opacity:1.0;stroke:rgb(40%,76.1%,64.7%);stroke-opacity:1.0\" transform=\"translate(71.875, 175.0)\"><circle r=\"0.0\"></circle></g><g class=\"toyplot-Datum\" style=\"fill:rgb(40%,76.1%,64.7%);fill-opacity:1.0;opacity:1.0;stroke:rgb(40%,76.1%,64.7%);stroke-opacity:1.0\" transform=\"translate(93.75, 175.0)\"><circle r=\"0.0\"></circle></g><g class=\"toyplot-Datum\" style=\"fill:rgb(40%,76.1%,64.7%);fill-opacity:1.0;opacity:1.0;stroke:rgb(40%,76.1%,64.7%);stroke-opacity:1.0\" transform=\"translate(115.625, 175.0)\"><circle r=\"0.0\"></circle></g><g class=\"toyplot-Datum\" style=\"fill:rgb(40%,76.1%,64.7%);fill-opacity:1.0;opacity:1.0;stroke:rgb(40%,76.1%,64.7%);stroke-opacity:1.0\" transform=\"translate(137.5, 175.0)\"><circle r=\"0.0\"></circle></g><g class=\"toyplot-Datum\" style=\"fill:rgb(40%,76.1%,64.7%);fill-opacity:1.0;opacity:1.0;stroke:rgb(40%,76.1%,64.7%);stroke-opacity:1.0\" transform=\"translate(159.375, 175.0)\"><circle r=\"0.0\"></circle></g><g class=\"toyplot-Datum\" style=\"fill:rgb(40%,76.1%,64.7%);fill-opacity:1.0;opacity:1.0;stroke:rgb(40%,76.1%,64.7%);stroke-opacity:1.0\" transform=\"translate(181.25, 175.0)\"><circle r=\"0.0\"></circle></g><g class=\"toyplot-Datum\" style=\"fill:rgb(40%,76.1%,64.7%);fill-opacity:1.0;opacity:1.0;stroke:rgb(40%,76.1%,64.7%);stroke-opacity:1.0\" transform=\"translate(203.125, 175.0)\"><circle r=\"0.0\"></circle></g><g class=\"toyplot-Datum\" style=\"fill:rgb(40%,76.1%,64.7%);fill-opacity:1.0;opacity:1.0;stroke:rgb(40%,76.1%,64.7%);stroke-opacity:1.0\" transform=\"translate(225.0, 175.0)\"><circle r=\"0.0\"></circle></g><g class=\"toyplot-Datum\" style=\"fill:rgb(40%,76.1%,64.7%);fill-opacity:1.0;opacity:1.0;stroke:rgb(40%,76.1%,64.7%);stroke-opacity:1.0\" transform=\"translate(60.9375, 154.16666666666669)\"><circle r=\"0.0\"></circle></g><g class=\"toyplot-Datum\" style=\"fill:rgb(40%,76.1%,64.7%);fill-opacity:1.0;opacity:1.0;stroke:rgb(40%,76.1%,64.7%);stroke-opacity:1.0\" transform=\"translate(77.34375, 133.33333333333334)\"><circle r=\"0.0\"></circle></g><g class=\"toyplot-Datum\" style=\"fill:rgb(40%,76.1%,64.7%);fill-opacity:1.0;opacity:1.0;stroke:rgb(40%,76.1%,64.7%);stroke-opacity:1.0\" transform=\"translate(96.484375, 112.5)\"><circle r=\"0.0\"></circle></g><g class=\"toyplot-Datum\" style=\"fill:rgb(40%,76.1%,64.7%);fill-opacity:1.0;opacity:1.0;stroke:rgb(40%,76.1%,64.7%);stroke-opacity:1.0\" transform=\"translate(116.9921875, 91.66666666666667)\"><circle r=\"0.0\"></circle></g><g class=\"toyplot-Datum\" style=\"fill:rgb(40%,76.1%,64.7%);fill-opacity:1.0;opacity:1.0;stroke:rgb(40%,76.1%,64.7%);stroke-opacity:1.0\" transform=\"translate(170.3125, 122.91666666666666)\"><circle r=\"0.0\"></circle></g><g class=\"toyplot-Datum\" style=\"fill:rgb(40%,76.1%,64.7%);fill-opacity:1.0;opacity:1.0;stroke:rgb(40%,76.1%,64.7%);stroke-opacity:1.0\" transform=\"translate(143.65234375, 70.83333333333333)\"><circle r=\"0.0\"></circle></g><g class=\"toyplot-Datum\" style=\"fill:rgb(40%,76.1%,64.7%);fill-opacity:1.0;opacity:1.0;stroke:rgb(40%,76.1%,64.7%);stroke-opacity:1.0\" transform=\"translate(214.0625, 112.5)\"><circle r=\"0.0\"></circle></g><g class=\"toyplot-Datum\" style=\"fill:rgb(40%,76.1%,64.7%);fill-opacity:1.0;opacity:1.0;stroke:rgb(40%,76.1%,64.7%);stroke-opacity:1.0\" transform=\"translate(178.857421875, 50.0)\"><circle r=\"0.0\"></circle></g></g></g><g class=\"toyplot-mark-Text\" id=\"t90481a50a6a0406c983ec3f441f84047\"><g class=\"toyplot-Series\"></g></g><g class=\"toyplot-mark-Scatterplot\" id=\"tf1a37c4c386b4f25a6dd9310876f0b42\"><g class=\"toyplot-Series\"><g class=\"toyplot-Datum\" style=\"fill:rgb(40%,76.1%,64.7%);fill-opacity:1.0;opacity:1.0;stroke:none\" transform=\"translate(50.0, 175.0)\"><circle r=\"7.5\"></circle><g><text style=\"fill:rgb(16.1%,15.3%,14.1%);fill-opacity:1.0;font-family:helvetica;font-size:10.0px;font-weight:normal;stroke:none;vertical-align:baseline;white-space:pre\" x=\"-4.445\" y=\"2.5549999999999997\">r8</text></g></g><g class=\"toyplot-Datum\" style=\"fill:rgb(40%,76.1%,64.7%);fill-opacity:1.0;opacity:1.0;stroke:none\" transform=\"translate(71.875, 175.0)\"><circle r=\"7.5\"></circle><g><text style=\"fill:rgb(16.1%,15.3%,14.1%);fill-opacity:1.0;font-family:helvetica;font-size:10.0px;font-weight:normal;stroke:none;vertical-align:baseline;white-space:pre\" x=\"-4.445\" y=\"2.5549999999999997\">r7</text></g></g><g class=\"toyplot-Datum\" style=\"fill:rgb(40%,76.1%,64.7%);fill-opacity:1.0;opacity:1.0;stroke:none\" transform=\"translate(93.75, 175.0)\"><circle r=\"7.5\"></circle><g><text style=\"fill:rgb(16.1%,15.3%,14.1%);fill-opacity:1.0;font-family:helvetica;font-size:10.0px;font-weight:normal;stroke:none;vertical-align:baseline;white-space:pre\" x=\"-4.445\" y=\"2.5549999999999997\">r6</text></g></g><g class=\"toyplot-Datum\" style=\"fill:rgb(40%,76.1%,64.7%);fill-opacity:1.0;opacity:1.0;stroke:none\" transform=\"translate(115.625, 175.0)\"><circle r=\"7.5\"></circle><g><text style=\"fill:rgb(16.1%,15.3%,14.1%);fill-opacity:1.0;font-family:helvetica;font-size:10.0px;font-weight:normal;stroke:none;vertical-align:baseline;white-space:pre\" x=\"-4.445\" y=\"2.5549999999999997\">r5</text></g></g><g class=\"toyplot-Datum\" style=\"fill:rgb(40%,76.1%,64.7%);fill-opacity:1.0;opacity:1.0;stroke:none\" transform=\"translate(137.5, 175.0)\"><circle r=\"7.5\"></circle><g><text style=\"fill:rgb(16.1%,15.3%,14.1%);fill-opacity:1.0;font-family:helvetica;font-size:10.0px;font-weight:normal;stroke:none;vertical-align:baseline;white-space:pre\" x=\"-4.445\" y=\"2.5549999999999997\">r4</text></g></g><g class=\"toyplot-Datum\" style=\"fill:rgb(40%,76.1%,64.7%);fill-opacity:1.0;opacity:1.0;stroke:none\" transform=\"translate(159.375, 175.0)\"><circle r=\"7.5\"></circle><g><text style=\"fill:rgb(16.1%,15.3%,14.1%);fill-opacity:1.0;font-family:helvetica;font-size:10.0px;font-weight:normal;stroke:none;vertical-align:baseline;white-space:pre\" x=\"-4.445\" y=\"2.5549999999999997\">r3</text></g></g><g class=\"toyplot-Datum\" style=\"fill:rgb(40%,76.1%,64.7%);fill-opacity:1.0;opacity:1.0;stroke:none\" transform=\"translate(181.25, 175.0)\"><circle r=\"7.5\"></circle><g><text style=\"fill:rgb(16.1%,15.3%,14.1%);fill-opacity:1.0;font-family:helvetica;font-size:10.0px;font-weight:normal;stroke:none;vertical-align:baseline;white-space:pre\" x=\"-4.445\" y=\"2.5549999999999997\">r2</text></g></g><g class=\"toyplot-Datum\" style=\"fill:rgb(40%,76.1%,64.7%);fill-opacity:1.0;opacity:1.0;stroke:none\" transform=\"translate(203.125, 175.0)\"><circle r=\"7.5\"></circle><g><text style=\"fill:rgb(16.1%,15.3%,14.1%);fill-opacity:1.0;font-family:helvetica;font-size:10.0px;font-weight:normal;stroke:none;vertical-align:baseline;white-space:pre\" x=\"-4.445\" y=\"2.5549999999999997\">r1</text></g></g><g class=\"toyplot-Datum\" style=\"fill:rgb(40%,76.1%,64.7%);fill-opacity:1.0;opacity:1.0;stroke:none\" transform=\"translate(225.0, 175.0)\"><circle r=\"7.5\"></circle><g><text style=\"fill:rgb(16.1%,15.3%,14.1%);fill-opacity:1.0;font-family:helvetica;font-size:10.0px;font-weight:normal;stroke:none;vertical-align:baseline;white-space:pre\" x=\"-4.445\" y=\"2.5549999999999997\">r0</text></g></g><g class=\"toyplot-Datum\" style=\"fill:rgb(40%,76.1%,64.7%);fill-opacity:1.0;opacity:1.0;stroke:none\" transform=\"translate(60.9375, 154.16666666666669)\"><circle r=\"7.5\"></circle><g><text style=\"fill:rgb(16.1%,15.3%,14.1%);fill-opacity:1.0;font-family:helvetica;font-size:10.0px;font-weight:normal;stroke:none;vertical-align:baseline;white-space:pre\" x=\"-3.89\" y=\"2.5549999999999997\">i9</text></g></g><g class=\"toyplot-Datum\" style=\"fill:rgb(40%,76.1%,64.7%);fill-opacity:1.0;opacity:1.0;stroke:none\" transform=\"translate(77.34375, 133.33333333333334)\"><circle r=\"7.5\"></circle><g><text style=\"fill:rgb(16.1%,15.3%,14.1%);fill-opacity:1.0;font-family:helvetica;font-size:10.0px;font-weight:normal;stroke:none;vertical-align:baseline;white-space:pre\" x=\"-6.670000000000001\" y=\"2.5549999999999997\">i10</text></g></g><g class=\"toyplot-Datum\" style=\"fill:rgb(40%,76.1%,64.7%);fill-opacity:1.0;opacity:1.0;stroke:none\" transform=\"translate(96.484375, 112.5)\"><circle r=\"7.5\"></circle><g><text style=\"fill:rgb(16.1%,15.3%,14.1%);fill-opacity:1.0;font-family:helvetica;font-size:10.0px;font-weight:normal;stroke:none;vertical-align:baseline;white-space:pre\" x=\"-6.670000000000001\" y=\"2.5549999999999997\">i11</text></g></g><g class=\"toyplot-Datum\" style=\"fill:rgb(40%,76.1%,64.7%);fill-opacity:1.0;opacity:1.0;stroke:none\" transform=\"translate(116.9921875, 91.66666666666667)\"><circle r=\"7.5\"></circle><g><text style=\"fill:rgb(16.1%,15.3%,14.1%);fill-opacity:1.0;font-family:helvetica;font-size:10.0px;font-weight:normal;stroke:none;vertical-align:baseline;white-space:pre\" x=\"-6.670000000000001\" y=\"2.5549999999999997\">i12</text></g></g><g class=\"toyplot-Datum\" style=\"fill:rgb(40%,76.1%,64.7%);fill-opacity:1.0;opacity:1.0;stroke:none\" transform=\"translate(170.3125, 122.91666666666666)\"><circle r=\"7.5\"></circle><g><text style=\"fill:rgb(16.1%,15.3%,14.1%);fill-opacity:1.0;font-family:helvetica;font-size:10.0px;font-weight:normal;stroke:none;vertical-align:baseline;white-space:pre\" x=\"-6.670000000000001\" y=\"2.5549999999999997\">i13</text></g></g><g class=\"toyplot-Datum\" style=\"fill:rgb(40%,76.1%,64.7%);fill-opacity:1.0;opacity:1.0;stroke:none\" transform=\"translate(143.65234375, 70.83333333333333)\"><circle r=\"7.5\"></circle><g><text style=\"fill:rgb(16.1%,15.3%,14.1%);fill-opacity:1.0;font-family:helvetica;font-size:10.0px;font-weight:normal;stroke:none;vertical-align:baseline;white-space:pre\" x=\"-6.670000000000001\" y=\"2.5549999999999997\">i14</text></g></g><g class=\"toyplot-Datum\" style=\"fill:rgb(40%,76.1%,64.7%);fill-opacity:1.0;opacity:1.0;stroke:none\" transform=\"translate(214.0625, 112.5)\"><circle r=\"7.5\"></circle><g><text style=\"fill:rgb(16.1%,15.3%,14.1%);fill-opacity:1.0;font-family:helvetica;font-size:10.0px;font-weight:normal;stroke:none;vertical-align:baseline;white-space:pre\" x=\"-6.670000000000001\" y=\"2.5549999999999997\">i15</text></g></g><g class=\"toyplot-Datum\" style=\"fill:rgb(40%,76.1%,64.7%);fill-opacity:1.0;opacity:1.0;stroke:none\" transform=\"translate(178.857421875, 50.0)\"><circle r=\"7.5\"></circle><g><text style=\"fill:rgb(16.1%,15.3%,14.1%);fill-opacity:1.0;font-family:helvetica;font-size:10.0px;font-weight:normal;stroke:none;vertical-align:baseline;white-space:pre\" x=\"-6.670000000000001\" y=\"2.5549999999999997\">i16</text></g></g></g></g></g><g class=\"toyplot-coordinates-Axis\" id=\"td81172c21f98434b9ddb5d6012f31e33\" transform=\"translate(50.0,175.0)rotate(-90.0)translate(0,-20.0)\"><line style=\"\" x1=\"0\" x2=\"125.0\" y1=\"0\" y2=\"0\"></line><g><line style=\"\" x1=\"0.0\" x2=\"0.0\" y1=\"0\" y2=\"5\"></line><line style=\"\" x1=\"41.666666666666664\" x2=\"41.666666666666664\" y1=\"0\" y2=\"5\"></line><line style=\"\" x1=\"83.33333333333333\" x2=\"83.33333333333333\" y1=\"0\" y2=\"5\"></line><line style=\"\" x1=\"125.0\" x2=\"125.0\" y1=\"0\" y2=\"5\"></line></g><g><g transform=\"translate(0.0,-6)rotate(90)\"><text style=\"fill:rgb(16.1%,15.3%,14.1%);fill-opacity:1.0;font-family:helvetica;font-size:10.0px;font-weight:normal;stroke:none;vertical-align:baseline;white-space:pre\" x=\"-5.56\" y=\"2.5549999999999997\">0</text></g><g transform=\"translate(41.666666666666664,-6)rotate(90)\"><text style=\"fill:rgb(16.1%,15.3%,14.1%);fill-opacity:1.0;font-family:helvetica;font-size:10.0px;font-weight:normal;stroke:none;vertical-align:baseline;white-space:pre\" x=\"-5.56\" y=\"2.5549999999999997\">1</text></g><g transform=\"translate(83.33333333333333,-6)rotate(90)\"><text style=\"fill:rgb(16.1%,15.3%,14.1%);fill-opacity:1.0;font-family:helvetica;font-size:10.0px;font-weight:normal;stroke:none;vertical-align:baseline;white-space:pre\" x=\"-5.56\" y=\"2.5549999999999997\">2</text></g><g transform=\"translate(125.0,-6)rotate(90)\"><text style=\"fill:rgb(16.1%,15.3%,14.1%);fill-opacity:1.0;font-family:helvetica;font-size:10.0px;font-weight:normal;stroke:none;vertical-align:baseline;white-space:pre\" x=\"-5.56\" y=\"2.5549999999999997\">3</text></g></g><g class=\"toyplot-coordinates-Axis-coordinates\" style=\"visibility:hidden\" transform=\"\"><line style=\"stroke:rgb(43.9%,50.2%,56.5%);stroke-opacity:1.0;stroke-width:1.0\" x1=\"0\" x2=\"0\" y1=\"3.0\" y2=\"-4.5\"></line><text style=\"alignment-baseline:hanging;fill:rgb(43.9%,50.2%,56.5%);fill-opacity:1.0;font-size:10px;font-weight:normal;stroke:none;text-anchor:middle\" x=\"0\" y=\"6\"></text></g></g></g></svg><div class=\"toyplot-behavior\"><script>(function()\n",
       "{\n",
       "var modules={};\n",
       "modules[\"toyplot/tables\"] = (function()\n",
       "    {\n",
       "        var tables = [];\n",
       "\n",
       "        var module = {};\n",
       "\n",
       "        module.set = function(owner, key, names, columns)\n",
       "        {\n",
       "            tables.push({owner: owner, key: key, names: names, columns: columns});\n",
       "        }\n",
       "\n",
       "        module.get = function(owner, key)\n",
       "        {\n",
       "            for(var i = 0; i != tables.length; ++i)\n",
       "            {\n",
       "                var table = tables[i];\n",
       "                if(table.owner != owner)\n",
       "                    continue;\n",
       "                if(table.key != key)\n",
       "                    continue;\n",
       "                return {names: table.names, columns: table.columns};\n",
       "            }\n",
       "        }\n",
       "\n",
       "        module.get_csv = function(owner, key)\n",
       "        {\n",
       "            var table = module.get(owner, key);\n",
       "            if(table != undefined)\n",
       "            {\n",
       "                var csv = \"\";\n",
       "                csv += table.names.join(\",\") + \"\\n\";\n",
       "                for(var i = 0; i != table.columns[0].length; ++i)\n",
       "                {\n",
       "                  for(var j = 0; j != table.columns.length; ++j)\n",
       "                  {\n",
       "                    if(j)\n",
       "                      csv += \",\";\n",
       "                    csv += table.columns[j][i];\n",
       "                  }\n",
       "                  csv += \"\\n\";\n",
       "                }\n",
       "                return csv;\n",
       "            }\n",
       "        }\n",
       "\n",
       "        return module;\n",
       "    })();\n",
       "modules[\"toyplot/root/id\"] = \"tdd128878a2b14f89acd44ed3260b9eec\";\n",
       "modules[\"toyplot/root\"] = (function(root_id)\n",
       "    {\n",
       "        return document.querySelector(\"#\" + root_id);\n",
       "    })(modules[\"toyplot/root/id\"]);\n",
       "modules[\"toyplot/canvas/id\"] = \"t18fdd0ab9e6347cdbb0fffed7fdb74f8\";\n",
       "modules[\"toyplot/canvas\"] = (function(canvas_id)\n",
       "    {\n",
       "        return document.querySelector(\"#\" + canvas_id);\n",
       "    })(modules[\"toyplot/canvas/id\"]);\n",
       "modules[\"toyplot/menus/context\"] = (function(root, canvas)\n",
       "    {\n",
       "        var wrapper = document.createElement(\"div\");\n",
       "        wrapper.innerHTML = \"<ul class='toyplot-context-menu' style='background:#eee; border:1px solid #b8b8b8; border-radius:5px; box-shadow: 0px 0px 8px rgba(0%,0%,0%,0.25); margin:0; padding:3px 0; position:fixed; visibility:hidden;'></ul>\"\n",
       "        var menu = wrapper.firstChild;\n",
       "\n",
       "        root.appendChild(menu);\n",
       "\n",
       "        var items = [];\n",
       "\n",
       "        var ignore_mouseup = null;\n",
       "        function open_menu(e)\n",
       "        {\n",
       "            var show_menu = false;\n",
       "            for(var index=0; index != items.length; ++index)\n",
       "            {\n",
       "                var item = items[index];\n",
       "                if(item.show(e))\n",
       "                {\n",
       "                    item.item.style.display = \"block\";\n",
       "                    show_menu = true;\n",
       "                }\n",
       "                else\n",
       "                {\n",
       "                    item.item.style.display = \"none\";\n",
       "                }\n",
       "            }\n",
       "\n",
       "            if(show_menu)\n",
       "            {\n",
       "                ignore_mouseup = true;\n",
       "                menu.style.left = (e.clientX + 1) + \"px\";\n",
       "                menu.style.top = (e.clientY - 5) + \"px\";\n",
       "                menu.style.visibility = \"visible\";\n",
       "                e.stopPropagation();\n",
       "                e.preventDefault();\n",
       "            }\n",
       "        }\n",
       "\n",
       "        function close_menu()\n",
       "        {\n",
       "            menu.style.visibility = \"hidden\";\n",
       "        }\n",
       "\n",
       "        function contextmenu(e)\n",
       "        {\n",
       "            open_menu(e);\n",
       "        }\n",
       "\n",
       "        function mousemove(e)\n",
       "        {\n",
       "            ignore_mouseup = false;\n",
       "        }\n",
       "\n",
       "        function mouseup(e)\n",
       "        {\n",
       "            if(ignore_mouseup)\n",
       "            {\n",
       "                ignore_mouseup = false;\n",
       "                return;\n",
       "            }\n",
       "            close_menu();\n",
       "        }\n",
       "\n",
       "        function keydown(e)\n",
       "        {\n",
       "            if(e.key == \"Escape\" || e.key == \"Esc\" || e.keyCode == 27)\n",
       "            {\n",
       "                close_menu();\n",
       "            }\n",
       "        }\n",
       "\n",
       "        canvas.addEventListener(\"contextmenu\", contextmenu);\n",
       "        canvas.addEventListener(\"mousemove\", mousemove);\n",
       "        document.addEventListener(\"mouseup\", mouseup);\n",
       "        document.addEventListener(\"keydown\", keydown);\n",
       "\n",
       "        var module = {};\n",
       "        module.add_item = function(label, show, activate)\n",
       "        {\n",
       "            var wrapper = document.createElement(\"div\");\n",
       "            wrapper.innerHTML = \"<li class='toyplot-context-menu-item' style='background:#eee; color:#333; padding:2px 20px; list-style:none; margin:0; text-align:left;'>\" + label + \"</li>\"\n",
       "            var item = wrapper.firstChild;\n",
       "\n",
       "            items.push({item: item, show: show});\n",
       "\n",
       "            function mouseover()\n",
       "            {\n",
       "                this.style.background = \"steelblue\";\n",
       "                this.style.color = \"white\";\n",
       "            }\n",
       "\n",
       "            function mouseout()\n",
       "            {\n",
       "                this.style.background = \"#eee\";\n",
       "                this.style.color = \"#333\";\n",
       "            }\n",
       "\n",
       "            function choose_item(e)\n",
       "            {\n",
       "                close_menu();\n",
       "                activate();\n",
       "\n",
       "                e.stopPropagation();\n",
       "                e.preventDefault();\n",
       "            }\n",
       "\n",
       "            item.addEventListener(\"mouseover\", mouseover);\n",
       "            item.addEventListener(\"mouseout\", mouseout);\n",
       "            item.addEventListener(\"mouseup\", choose_item);\n",
       "            item.addEventListener(\"contextmenu\", choose_item);\n",
       "\n",
       "            menu.appendChild(item);\n",
       "        };\n",
       "        return module;\n",
       "    })(modules[\"toyplot/root\"],modules[\"toyplot/canvas\"]);\n",
       "modules[\"toyplot/io\"] = (function()\n",
       "    {\n",
       "        var module = {};\n",
       "        module.save_file = function(mime_type, charset, data, filename)\n",
       "        {\n",
       "            var uri = \"data:\" + mime_type + \";charset=\" + charset + \",\" + data;\n",
       "            uri = encodeURI(uri);\n",
       "\n",
       "            var link = document.createElement(\"a\");\n",
       "            if(typeof link.download != \"undefined\")\n",
       "            {\n",
       "              link.href = uri;\n",
       "              link.style = \"visibility:hidden\";\n",
       "              link.download = filename;\n",
       "\n",
       "              document.body.appendChild(link);\n",
       "              link.click();\n",
       "              document.body.removeChild(link);\n",
       "            }\n",
       "            else\n",
       "            {\n",
       "              window.open(uri);\n",
       "            }\n",
       "        };\n",
       "        return module;\n",
       "    })();\n",
       "modules[\"toyplot.coordinates.Axis\"] = (\n",
       "        function(canvas)\n",
       "        {\n",
       "            function sign(x)\n",
       "            {\n",
       "                return x < 0 ? -1 : x > 0 ? 1 : 0;\n",
       "            }\n",
       "\n",
       "            function mix(a, b, amount)\n",
       "            {\n",
       "                return ((1.0 - amount) * a) + (amount * b);\n",
       "            }\n",
       "\n",
       "            function log(x, base)\n",
       "            {\n",
       "                return Math.log(Math.abs(x)) / Math.log(base);\n",
       "            }\n",
       "\n",
       "            function in_range(a, x, b)\n",
       "            {\n",
       "                var left = Math.min(a, b);\n",
       "                var right = Math.max(a, b);\n",
       "                return left <= x && x <= right;\n",
       "            }\n",
       "\n",
       "            function inside(range, projection)\n",
       "            {\n",
       "                for(var i = 0; i != projection.length; ++i)\n",
       "                {\n",
       "                    var segment = projection[i];\n",
       "                    if(in_range(segment.range.min, range, segment.range.max))\n",
       "                        return true;\n",
       "                }\n",
       "                return false;\n",
       "            }\n",
       "\n",
       "            function to_domain(range, projection)\n",
       "            {\n",
       "                for(var i = 0; i != projection.length; ++i)\n",
       "                {\n",
       "                    var segment = projection[i];\n",
       "                    if(in_range(segment.range.bounds.min, range, segment.range.bounds.max))\n",
       "                    {\n",
       "                        if(segment.scale == \"linear\")\n",
       "                        {\n",
       "                            var amount = (range - segment.range.min) / (segment.range.max - segment.range.min);\n",
       "                            return mix(segment.domain.min, segment.domain.max, amount)\n",
       "                        }\n",
       "                        else if(segment.scale[0] == \"log\")\n",
       "                        {\n",
       "                            var amount = (range - segment.range.min) / (segment.range.max - segment.range.min);\n",
       "                            var base = segment.scale[1];\n",
       "                            return sign(segment.domain.min) * Math.pow(base, mix(log(segment.domain.min, base), log(segment.domain.max, base), amount));\n",
       "                        }\n",
       "                    }\n",
       "                }\n",
       "            }\n",
       "\n",
       "            var axes = {};\n",
       "\n",
       "            function display_coordinates(e)\n",
       "            {\n",
       "                var current = canvas.createSVGPoint();\n",
       "                current.x = e.clientX;\n",
       "                current.y = e.clientY;\n",
       "\n",
       "                for(var axis_id in axes)\n",
       "                {\n",
       "                    var axis = document.querySelector(\"#\" + axis_id);\n",
       "                    var coordinates = axis.querySelector(\".toyplot-coordinates-Axis-coordinates\");\n",
       "                    if(coordinates)\n",
       "                    {\n",
       "                        var projection = axes[axis_id];\n",
       "                        var local = current.matrixTransform(axis.getScreenCTM().inverse());\n",
       "                        if(inside(local.x, projection))\n",
       "                        {\n",
       "                            var domain = to_domain(local.x, projection);\n",
       "                            coordinates.style.visibility = \"visible\";\n",
       "                            coordinates.setAttribute(\"transform\", \"translate(\" + local.x + \")\");\n",
       "                            var text = coordinates.querySelector(\"text\");\n",
       "                            text.textContent = domain.toFixed(2);\n",
       "                        }\n",
       "                        else\n",
       "                        {\n",
       "                            coordinates.style.visibility= \"hidden\";\n",
       "                        }\n",
       "                    }\n",
       "                }\n",
       "            }\n",
       "\n",
       "            canvas.addEventListener(\"click\", display_coordinates);\n",
       "\n",
       "            var module = {};\n",
       "            module.show_coordinates = function(axis_id, projection)\n",
       "            {\n",
       "                axes[axis_id] = projection;\n",
       "            }\n",
       "\n",
       "            return module;\n",
       "        })(modules[\"toyplot/canvas\"]);\n",
       "(function(tables, context_menu, io, owner_id, key, label, names, columns, filename)\n",
       "        {\n",
       "            tables.set(owner_id, key, names, columns);\n",
       "\n",
       "            var owner = document.querySelector(\"#\" + owner_id);\n",
       "            function show_item(e)\n",
       "            {\n",
       "                return owner.contains(e.target);\n",
       "            }\n",
       "\n",
       "            function choose_item()\n",
       "            {\n",
       "                io.save_file(\"text/csv\", \"utf-8\", tables.get_csv(owner_id, key), filename + \".csv\");\n",
       "            }\n",
       "\n",
       "            context_menu.add_item(\"Save \" + label + \" as CSV\", show_item, choose_item);\n",
       "        })(modules[\"toyplot/tables\"],modules[\"toyplot/menus/context\"],modules[\"toyplot/io\"],\"t20f1b1b0c1ee45b3b35a023bcbc497e4\",\"vertex_data\",\"graph vertex data\",[\"x\", \"y\"],[[0.0, 1.0, 2.0, 3.0, 4.0, 5.0, 6.0, 7.0, 8.0, 0.5, 1.25, 2.125, 3.0625, 5.5, 4.28125, 7.5, 5.890625], [0.0, 0.0, 0.0, 0.0, 0.0, 0.0, 0.0, 0.0, 0.0, 0.5, 1.0, 1.5, 2.0, 1.25, 2.5, 1.5, 3.0]],\"toyplot\");\n",
       "(function(tables, context_menu, io, owner_id, key, label, names, columns, filename)\n",
       "        {\n",
       "            tables.set(owner_id, key, names, columns);\n",
       "\n",
       "            var owner = document.querySelector(\"#\" + owner_id);\n",
       "            function show_item(e)\n",
       "            {\n",
       "                return owner.contains(e.target);\n",
       "            }\n",
       "\n",
       "            function choose_item()\n",
       "            {\n",
       "                io.save_file(\"text/csv\", \"utf-8\", tables.get_csv(owner_id, key), filename + \".csv\");\n",
       "            }\n",
       "\n",
       "            context_menu.add_item(\"Save \" + label + \" as CSV\", show_item, choose_item);\n",
       "        })(modules[\"toyplot/tables\"],modules[\"toyplot/menus/context\"],modules[\"toyplot/io\"],\"t20f1b1b0c1ee45b3b35a023bcbc497e4\",\"edge_data\",\"graph edge data\",[\"source\", \"target\"],[[15, 15, 16, 13, 13, 14, 12, 11, 10, 9, 9, 10, 11, 12, 14, 16], [8, 7, 15, 6, 5, 13, 4, 3, 2, 1, 0, 9, 10, 11, 12, 14]],\"toyplot\");\n",
       "(function(tables, context_menu, io, owner_id, key, label, names, columns, filename)\n",
       "        {\n",
       "            tables.set(owner_id, key, names, columns);\n",
       "\n",
       "            var owner = document.querySelector(\"#\" + owner_id);\n",
       "            function show_item(e)\n",
       "            {\n",
       "                return owner.contains(e.target);\n",
       "            }\n",
       "\n",
       "            function choose_item()\n",
       "            {\n",
       "                io.save_file(\"text/csv\", \"utf-8\", tables.get_csv(owner_id, key), filename + \".csv\");\n",
       "            }\n",
       "\n",
       "            context_menu.add_item(\"Save \" + label + \" as CSV\", show_item, choose_item);\n",
       "        })(modules[\"toyplot/tables\"],modules[\"toyplot/menus/context\"],modules[\"toyplot/io\"],\"tf1a37c4c386b4f25a6dd9310876f0b42\",\"data\",\"scatterplot\",[\"x\", \"y0\"],[[0.0, 1.0, 2.0, 3.0, 4.0, 5.0, 6.0, 7.0, 8.0, 0.5, 1.25, 2.125, 3.0625, 5.5, 4.28125, 7.5, 5.890625], [0.0, 0.0, 0.0, 0.0, 0.0, 0.0, 0.0, 0.0, 0.0, 0.5, 1.0, 1.5, 2.0, 1.25, 2.5, 1.5, 3.0]],\"toyplot\");\n",
       "(function(axis, axis_id, projection)\n",
       "        {\n",
       "            axis.show_coordinates(axis_id, projection);\n",
       "        })(modules[\"toyplot.coordinates.Axis\"],\"td81172c21f98434b9ddb5d6012f31e33\",[{\"domain\": {\"bounds\": {\"max\": Infinity, \"min\": -Infinity}, \"max\": 3.0, \"min\": 0.0}, \"range\": {\"bounds\": {\"max\": Infinity, \"min\": -Infinity}, \"max\": 125.0, \"min\": 0.0}, \"scale\": \"linear\"}]);\n",
       "})();</script></div></div>"
      ]
     },
     "metadata": {},
     "output_type": "display_data"
    }
   ],
   "source": [
    "tree = toytree.rtree.unittree(ntips=9, treeheight=3, seed=42)\n",
    "c, a = tree.draw(tree_style='c',node_labels=tree.get_node_values('name',show_root=True,show_tips=True))"
   ]
  },
  {
   "cell_type": "markdown",
   "metadata": {},
   "source": [
    "### initiate object"
   ]
  },
  {
   "cell_type": "markdown",
   "metadata": {},
   "source": [
    "A `Coalseq` class object requires a toytree object and a directory name as arguments.  \n",
    "When you define a `Coalseq` object, a directory will automatically be created."
   ]
  },
  {
   "cell_type": "code",
   "execution_count": 17,
   "metadata": {},
   "outputs": [
    {
     "name": "stdout",
     "output_type": "stream",
     "text": [
      "Directory 'my_dir' created.\n"
     ]
    }
   ],
   "source": [
    "sim = Coalseq(tree,\n",
    "            'my_dir',\n",
    "           recombination_rate = 1e-10,\n",
    "           length = 100000)"
   ]
  },
  {
   "cell_type": "markdown",
   "metadata": {},
   "source": [
    "I've kept the length short here for simplicity, but seems to work fine for relatively long sequences."
   ]
  },
  {
   "cell_type": "markdown",
   "metadata": {},
   "source": [
    "### simulate under msprime"
   ]
  },
  {
   "cell_type": "markdown",
   "metadata": {},
   "source": [
    "The `make_treeseq()` function will run a single msprime simulation."
   ]
  },
  {
   "cell_type": "code",
   "execution_count": 18,
   "metadata": {},
   "outputs": [],
   "source": [
    "sim.make_treeseq()"
   ]
  },
  {
   "cell_type": "markdown",
   "metadata": {},
   "source": [
    "We can then access the msprime treesequence:"
   ]
  },
  {
   "cell_type": "code",
   "execution_count": 19,
   "metadata": {},
   "outputs": [
    {
     "data": {
      "text/plain": [
       "<msprime.trees.TreeSequence at 0x10443dfd0>"
      ]
     },
     "execution_count": 19,
     "metadata": {},
     "output_type": "execute_result"
    }
   ],
   "source": [
    "sim.treeseq"
   ]
  },
  {
   "cell_type": "markdown",
   "metadata": {},
   "source": [
    "And we can access the attributes of this tree sequence:"
   ]
  },
  {
   "cell_type": "code",
   "execution_count": 20,
   "metadata": {},
   "outputs": [
    {
     "data": {
      "text/plain": [
       "69"
      ]
     },
     "execution_count": 20,
     "metadata": {},
     "output_type": "execute_result"
    }
   ],
   "source": [
    "sim.treeseq.num_trees"
   ]
  },
  {
   "cell_type": "markdown",
   "metadata": {},
   "source": [
    "### write out msprime genetrees:"
   ]
  },
  {
   "cell_type": "markdown",
   "metadata": {},
   "source": [
    "This will write out Newick versions of all genetrees in the TreeSequence to a directory called 'ms_genetrees' inside our project directory."
   ]
  },
  {
   "cell_type": "code",
   "execution_count": 21,
   "metadata": {},
   "outputs": [
    {
     "name": "stdout",
     "output_type": "stream",
     "text": [
      "Directory 'my_dir/ms_genetrees' created.\n"
     ]
    }
   ],
   "source": [
    "sim.write_trees()"
   ]
  },
  {
   "cell_type": "markdown",
   "metadata": {},
   "source": [
    "We can see that these are there:"
   ]
  },
  {
   "cell_type": "code",
   "execution_count": 22,
   "metadata": {},
   "outputs": [
    {
     "name": "stdout",
     "output_type": "stream",
     "text": [
      "0.phy  15.phy 21.phy 28.phy 34.phy 40.phy 47.phy 53.phy 6.phy  66.phy\n",
      "1.phy  16.phy 22.phy 29.phy 35.phy 41.phy 48.phy 54.phy 60.phy 67.phy\n",
      "10.phy 17.phy 23.phy 3.phy  36.phy 42.phy 49.phy 55.phy 61.phy 68.phy\n",
      "11.phy 18.phy 24.phy 30.phy 37.phy 43.phy 5.phy  56.phy 62.phy 7.phy\n",
      "12.phy 19.phy 25.phy 31.phy 38.phy 44.phy 50.phy 57.phy 63.phy 8.phy\n",
      "13.phy 2.phy  26.phy 32.phy 39.phy 45.phy 51.phy 58.phy 64.phy 9.phy\n",
      "14.phy 20.phy 27.phy 33.phy 4.phy  46.phy 52.phy 59.phy 65.phy\n"
     ]
    }
   ],
   "source": [
    "! ls my_dir/ms_genetrees/"
   ]
  },
  {
   "cell_type": "markdown",
   "metadata": {},
   "source": [
    "These are ordered -- \"0.phy\" is next to \"1.phy\" on the chromosome."
   ]
  },
  {
   "cell_type": "markdown",
   "metadata": {},
   "source": [
    "We have also written out an hdf5 file to the main project directory that contains the sequence length associated with each genetree."
   ]
  },
  {
   "cell_type": "code",
   "execution_count": 24,
   "metadata": {},
   "outputs": [
    {
     "name": "stdout",
     "output_type": "stream",
     "text": [
      "ms_genetree_lengths.hdf5 \u001b[34mms_genetrees\u001b[m\u001b[m\n"
     ]
    }
   ],
   "source": [
    "! ls my_dir"
   ]
  },
  {
   "cell_type": "markdown",
   "metadata": {},
   "source": [
    "### Now we can use the `write_seqs()` function to run seq-gen on each genetree individually, saving each sequence as an individual file"
   ]
  },
  {
   "cell_type": "code",
   "execution_count": 25,
   "metadata": {},
   "outputs": [
    {
     "name": "stdout",
     "output_type": "stream",
     "text": [
      "Directory 'my_dir/seqs' created.\n"
     ]
    }
   ],
   "source": [
    "sim.write_seqs()"
   ]
  },
  {
   "cell_type": "markdown",
   "metadata": {},
   "source": [
    "We can see that this has worked:"
   ]
  },
  {
   "cell_type": "code",
   "execution_count": 26,
   "metadata": {},
   "outputs": [
    {
     "name": "stdout",
     "output_type": "stream",
     "text": [
      "0.fa  14.fa 2.fa  25.fa 30.fa 36.fa 41.fa 47.fa 52.fa 58.fa 63.fa 7.fa\n",
      "1.fa  15.fa 20.fa 26.fa 31.fa 37.fa 42.fa 48.fa 53.fa 59.fa 64.fa 8.fa\n",
      "10.fa 16.fa 21.fa 27.fa 32.fa 38.fa 43.fa 49.fa 54.fa 6.fa  65.fa 9.fa\n",
      "11.fa 17.fa 22.fa 28.fa 33.fa 39.fa 44.fa 5.fa  55.fa 60.fa 66.fa\n",
      "12.fa 18.fa 23.fa 29.fa 34.fa 4.fa  45.fa 50.fa 56.fa 61.fa 67.fa\n",
      "13.fa 19.fa 24.fa 3.fa  35.fa 40.fa 46.fa 51.fa 57.fa 62.fa 68.fa\n"
     ]
    }
   ],
   "source": [
    "! ls my_dir/seqs/"
   ]
  },
  {
   "cell_type": "markdown",
   "metadata": {},
   "source": [
    "### now, we can concatenate these into a full alignment:"
   ]
  },
  {
   "cell_type": "markdown",
   "metadata": {},
   "source": [
    "The default saves as .fa file:"
   ]
  },
  {
   "cell_type": "code",
   "execution_count": 27,
   "metadata": {},
   "outputs": [
    {
     "name": "stdout",
     "output_type": "stream",
     "text": [
      "Written full alignment.\n"
     ]
    }
   ],
   "source": [
    "sim.build_seqs()"
   ]
  },
  {
   "cell_type": "code",
   "execution_count": 28,
   "metadata": {},
   "outputs": [
    {
     "name": "stdout",
     "output_type": "stream",
     "text": [
      "final_seqs.fa            \u001b[34mms_genetrees\u001b[m\u001b[m\n",
      "ms_genetree_lengths.hdf5 \u001b[34mseqs\u001b[m\u001b[m\n"
     ]
    }
   ],
   "source": [
    "! ls my_dir/"
   ]
  },
  {
   "cell_type": "markdown",
   "metadata": {},
   "source": [
    "But we can also save this as an hdf5 file:"
   ]
  },
  {
   "cell_type": "code",
   "execution_count": 29,
   "metadata": {},
   "outputs": [
    {
     "name": "stdout",
     "output_type": "stream",
     "text": [
      "Written full alignment.\n"
     ]
    }
   ],
   "source": [
    "sim.build_seqs(hdf5=True)"
   ]
  },
  {
   "cell_type": "markdown",
   "metadata": {},
   "source": [
    "### admire the results:"
   ]
  },
  {
   "cell_type": "code",
   "execution_count": 30,
   "metadata": {},
   "outputs": [],
   "source": [
    "alignment=h5py.File('my_dir/final_seqs.hdf5')"
   ]
  },
  {
   "cell_type": "code",
   "execution_count": 31,
   "metadata": {},
   "outputs": [
    {
     "data": {
      "text/plain": [
       "<HDF5 dataset \"alignment\": shape (9, 99967), type \"|S1\">"
      ]
     },
     "execution_count": 31,
     "metadata": {},
     "output_type": "execute_result"
    }
   ],
   "source": [
    "alignment['alignment']"
   ]
  },
  {
   "cell_type": "code",
   "execution_count": 32,
   "metadata": {},
   "outputs": [
    {
     "data": {
      "text/plain": [
       "array([['C', 'C', 'C', ..., 'G', 'A', 'C'],\n",
       "       ['A', 'A', 'T', ..., 'A', 'A', 'A'],\n",
       "       ['T', 'C', 'C', ..., 'G', 'G', 'G'],\n",
       "       ...,\n",
       "       ['T', 'T', 'C', ..., 'G', 'G', 'A'],\n",
       "       ['G', 'C', 'T', ..., 'A', 'T', 'C'],\n",
       "       ['G', 'A', 'A', ..., 'C', 'T', 'G']], dtype='|S1')"
      ]
     },
     "execution_count": 32,
     "metadata": {},
     "output_type": "execute_result"
    }
   ],
   "source": [
    "np.array(alignment['alignment'])"
   ]
  },
  {
   "cell_type": "markdown",
   "metadata": {},
   "source": [
    "### remaining question:"
   ]
  },
  {
   "cell_type": "markdown",
   "metadata": {},
   "source": [
    "Can I input genetrees directly to seq-gen from msprime? Do I need to scale the branch lengths?"
   ]
  }
 ],
 "metadata": {
  "kernelspec": {
   "display_name": "Python 2",
   "language": "python",
   "name": "python2"
  },
  "language_info": {
   "codemirror_mode": {
    "name": "ipython",
    "version": 2
   },
   "file_extension": ".py",
   "mimetype": "text/x-python",
   "name": "python",
   "nbconvert_exporter": "python",
   "pygments_lexer": "ipython2",
   "version": "2.7.11"
  }
 },
 "nbformat": 4,
 "nbformat_minor": 2
}
